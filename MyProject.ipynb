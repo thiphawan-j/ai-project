{
  "nbformat": 4,
  "nbformat_minor": 0,
  "metadata": {
    "colab": {
      "name": "MyProject.ipynb",
      "provenance": [],
      "collapsed_sections": [
        "Ljm-DlVZJ-UD",
        "NUyIhCeMKHWe",
        "etLBiiNMC-AQ",
        "AOlRlGz_MIyZ",
        "JBCKZehBM12A",
        "izUrwTOKM8OW",
        "YpfghBidNBWQ"
      ],
      "mount_file_id": "1Y3pgbYlr95lB2bPSCthfg8qkwEYH5XKv",
      "authorship_tag": "ABX9TyPpwKYHE4uTiqgcSoTiFbLp",
      "include_colab_link": true
    },
    "kernelspec": {
      "name": "python3",
      "display_name": "Python 3"
    }
  },
  "cells": [
    {
      "cell_type": "markdown",
      "metadata": {
        "id": "view-in-github",
        "colab_type": "text"
      },
      "source": [
        "<a href=\"https://colab.research.google.com/github/thiphawan-j/ai-project/blob/main/MyProject.ipynb\" target=\"_parent\"><img src=\"https://colab.research.google.com/assets/colab-badge.svg\" alt=\"Open In Colab\"/></a>"
      ]
    },
    {
      "cell_type": "code",
      "metadata": {
        "id": "sAp-C8cK4jyn"
      },
      "source": [
        "from pydrive.auth import GoogleAuth\n",
        "from pydrive.drive import GoogleDrive\n",
        "from google.colab import auth\n",
        "from oauth2client.client import GoogleCredentials\n",
        "auth.authenticate_user()\n",
        "gauth = GoogleAuth()\n",
        "gauth.credentials = GoogleCredentials.get_application_default()\n",
        "drive = GoogleDrive(gauth)"
      ],
      "execution_count": 1,
      "outputs": []
    },
    {
      "cell_type": "code",
      "metadata": {
        "id": "pnaJERrXuiLM"
      },
      "source": [
        "import pandas as pd\n",
        "import numpy as np\n",
        "from matplotlib import pyplot as plt\n",
        "import seaborn as sns"
      ],
      "execution_count": 2,
      "outputs": []
    },
    {
      "cell_type": "code",
      "metadata": {
        "id": "XrG9QqxOus4B"
      },
      "source": [
        "sns.set(font_scale=2.5)"
      ],
      "execution_count": 3,
      "outputs": []
    },
    {
      "cell_type": "markdown",
      "metadata": {
        "id": "U7uuwJnfJ22i"
      },
      "source": [
        "# **Load Function**"
      ]
    },
    {
      "cell_type": "code",
      "metadata": {
        "colab": {
          "resources": {
            "http://localhost:8080/nbextensions/google.colab/files.js": {
              "data": "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",
              "ok": true,
              "headers": [
                [
                  "content-type",
                  "application/javascript"
                ]
              ],
              "status": 200,
              "status_text": ""
            }
          },
          "base_uri": "https://localhost:8080/",
          "height": 70
        },
        "id": "-vtsz_9q483_",
        "outputId": "98cb4687-7834-4be8-d387-b6212eb649b2"
      },
      "source": [
        "from google.colab import files\n",
        "src = list(files.upload().values())[0]\n",
        "open('Replayers.py','wb').write(src)\n",
        "import Replayers"
      ],
      "execution_count": 4,
      "outputs": [
        {
          "output_type": "display_data",
          "data": {
            "text/html": [
              "\n",
              "     <input type=\"file\" id=\"files-61eda738-2797-41cb-b590-46e641cbba1b\" name=\"files[]\" multiple disabled\n",
              "        style=\"border:none\" />\n",
              "     <output id=\"result-61eda738-2797-41cb-b590-46e641cbba1b\">\n",
              "      Upload widget is only available when the cell has been executed in the\n",
              "      current browser session. Please rerun this cell to enable.\n",
              "      </output>\n",
              "      <script src=\"/nbextensions/google.colab/files.js\"></script> "
            ],
            "text/plain": [
              "<IPython.core.display.HTML object>"
            ]
          },
          "metadata": {
            "tags": []
          }
        },
        {
          "output_type": "stream",
          "text": [
            "Saving replayers.py to replayers.py\n"
          ],
          "name": "stdout"
        }
      ]
    },
    {
      "cell_type": "code",
      "metadata": {
        "id": "0EXVKFlrus63",
        "colab": {
          "base_uri": "https://localhost:8080/",
          "height": 85
        },
        "outputId": "2b3e305f-e0ea-4e1c-e0d3-61330df159f9"
      },
      "source": [
        "\n",
        "# using a color-blind friendly palette with 10 colors\n",
        "color_blind_palette_10 = ['#cfcfcf', '#ffbc79', '#a2c8ec', '#898989', '#c85200',\n",
        "                          '#5f9ed1', '#595959', '#ababab', '#ff800e', '#006ba4']\n",
        "\n",
        "sns.palplot(color_blind_palette_10)"
      ],
      "execution_count": 5,
      "outputs": [
        {
          "output_type": "display_data",
          "data": {
            "image/png": "[encoded data removed]",
            "text/plain": [
              "<Figure size 720x72 with 1 Axes>"
            ]
          },
          "metadata": {
            "tags": []
          }
        }
      ]
    },
    {
      "cell_type": "markdown",
      "metadata": {
        "id": "Ljm-DlVZJ-UD"
      },
      "source": [
        "# **Load Data**"
      ]
    },
    {
      "cell_type": "code",
      "metadata": {
        "id": "qcD7QAoMus9x"
      },
      "source": [
        "movie_df = pd.read_csv('/content/drive/MyDrive/AI/Project/data/raw/u.item', sep='|', header=None, encoding='latin1', index_col=False,\n",
        "                   names=['movie_id',\n",
        "                          'movie_title',\n",
        "                          'release_date',\n",
        "                          'video_release_date',\n",
        "                          'imdb_url',\n",
        "                          'unknown',\n",
        "                          'action',\n",
        "                          'adventure',\n",
        "                          'animation',\n",
        "                          'children',\n",
        "                          'comedy',\n",
        "                          'crime',\n",
        "                          'documentary',\n",
        "                          'drama',\n",
        "                          'fantasy',\n",
        "                          'film_noir',\n",
        "                          'horror',\n",
        "                          'musical',\n",
        "                          'mystery'\n",
        "                          'romance',\n",
        "                          'sci_fi',\n",
        "                          'thriller',\n",
        "                          'war',\n",
        "                          'western'])\n",
        "\n",
        "movie_df.movie_id -= 1 # make this column zero-indexed"
      ],
      "execution_count": 6,
      "outputs": []
    },
    {
      "cell_type": "code",
      "metadata": {
        "id": "boivcQ-butAW",
        "colab": {
          "base_uri": "https://localhost:8080/",
          "height": 0
        },
        "outputId": "a81961c8-4793-4dd9-e162-60db2cb9f0a9"
      },
      "source": [
        "movie_df.head()"
      ],
      "execution_count": 7,
      "outputs": [
        {
          "output_type": "execute_result",
          "data": {
            "text/html": [
              "<div>\n",
              "<style scoped>\n",
              "    .dataframe tbody tr th:only-of-type {\n",
              "        vertical-align: middle;\n",
              "    }\n",
              "\n",
              "    .dataframe tbody tr th {\n",
              "        vertical-align: top;\n",
              "    }\n",
              "\n",
              "    .dataframe thead th {\n",
              "        text-align: right;\n",
              "    }\n",
              "</style>\n",
              "<table border=\"1\" class=\"dataframe\">\n",
              "  <thead>\n",
              "    <tr style=\"text-align: right;\">\n",
              "      <th></th>\n",
              "      <th>movie_id</th>\n",
              "      <th>movie_title</th>\n",
              "      <th>release_date</th>\n",
              "      <th>video_release_date</th>\n",
              "      <th>imdb_url</th>\n",
              "      <th>unknown</th>\n",
              "      <th>action</th>\n",
              "      <th>adventure</th>\n",
              "      <th>animation</th>\n",
              "      <th>children</th>\n",
              "      <th>comedy</th>\n",
              "      <th>crime</th>\n",
              "      <th>documentary</th>\n",
              "      <th>drama</th>\n",
              "      <th>fantasy</th>\n",
              "      <th>film_noir</th>\n",
              "      <th>horror</th>\n",
              "      <th>musical</th>\n",
              "      <th>mysteryromance</th>\n",
              "      <th>sci_fi</th>\n",
              "      <th>thriller</th>\n",
              "      <th>war</th>\n",
              "      <th>western</th>\n",
              "    </tr>\n",
              "  </thead>\n",
              "  <tbody>\n",
              "    <tr>\n",
              "      <th>0</th>\n",
              "      <td>0</td>\n",
              "      <td>Toy Story (1995)</td>\n",
              "      <td>01-Jan-1995</td>\n",
              "      <td>NaN</td>\n",
              "      <td>http://us.imdb.com/M/title-exact?Toy%20Story%2...</td>\n",
              "      <td>0</td>\n",
              "      <td>0</td>\n",
              "      <td>0</td>\n",
              "      <td>1</td>\n",
              "      <td>1</td>\n",
              "      <td>1</td>\n",
              "      <td>0</td>\n",
              "      <td>0</td>\n",
              "      <td>0</td>\n",
              "      <td>0</td>\n",
              "      <td>0</td>\n",
              "      <td>0</td>\n",
              "      <td>0</td>\n",
              "      <td>0</td>\n",
              "      <td>0</td>\n",
              "      <td>0</td>\n",
              "      <td>0</td>\n",
              "      <td>0</td>\n",
              "    </tr>\n",
              "    <tr>\n",
              "      <th>1</th>\n",
              "      <td>1</td>\n",
              "      <td>GoldenEye (1995)</td>\n",
              "      <td>01-Jan-1995</td>\n",
              "      <td>NaN</td>\n",
              "      <td>http://us.imdb.com/M/title-exact?GoldenEye%20(...</td>\n",
              "      <td>0</td>\n",
              "      <td>1</td>\n",
              "      <td>1</td>\n",
              "      <td>0</td>\n",
              "      <td>0</td>\n",
              "      <td>0</td>\n",
              "      <td>0</td>\n",
              "      <td>0</td>\n",
              "      <td>0</td>\n",
              "      <td>0</td>\n",
              "      <td>0</td>\n",
              "      <td>0</td>\n",
              "      <td>0</td>\n",
              "      <td>0</td>\n",
              "      <td>0</td>\n",
              "      <td>0</td>\n",
              "      <td>1</td>\n",
              "      <td>0</td>\n",
              "    </tr>\n",
              "    <tr>\n",
              "      <th>2</th>\n",
              "      <td>2</td>\n",
              "      <td>Four Rooms (1995)</td>\n",
              "      <td>01-Jan-1995</td>\n",
              "      <td>NaN</td>\n",
              "      <td>http://us.imdb.com/M/title-exact?Four%20Rooms%...</td>\n",
              "      <td>0</td>\n",
              "      <td>0</td>\n",
              "      <td>0</td>\n",
              "      <td>0</td>\n",
              "      <td>0</td>\n",
              "      <td>0</td>\n",
              "      <td>0</td>\n",
              "      <td>0</td>\n",
              "      <td>0</td>\n",
              "      <td>0</td>\n",
              "      <td>0</td>\n",
              "      <td>0</td>\n",
              "      <td>0</td>\n",
              "      <td>0</td>\n",
              "      <td>0</td>\n",
              "      <td>0</td>\n",
              "      <td>1</td>\n",
              "      <td>0</td>\n",
              "    </tr>\n",
              "    <tr>\n",
              "      <th>3</th>\n",
              "      <td>3</td>\n",
              "      <td>Get Shorty (1995)</td>\n",
              "      <td>01-Jan-1995</td>\n",
              "      <td>NaN</td>\n",
              "      <td>http://us.imdb.com/M/title-exact?Get%20Shorty%...</td>\n",
              "      <td>0</td>\n",
              "      <td>1</td>\n",
              "      <td>0</td>\n",
              "      <td>0</td>\n",
              "      <td>0</td>\n",
              "      <td>1</td>\n",
              "      <td>0</td>\n",
              "      <td>0</td>\n",
              "      <td>1</td>\n",
              "      <td>0</td>\n",
              "      <td>0</td>\n",
              "      <td>0</td>\n",
              "      <td>0</td>\n",
              "      <td>0</td>\n",
              "      <td>0</td>\n",
              "      <td>0</td>\n",
              "      <td>0</td>\n",
              "      <td>0</td>\n",
              "    </tr>\n",
              "    <tr>\n",
              "      <th>4</th>\n",
              "      <td>4</td>\n",
              "      <td>Copycat (1995)</td>\n",
              "      <td>01-Jan-1995</td>\n",
              "      <td>NaN</td>\n",
              "      <td>http://us.imdb.com/M/title-exact?Copycat%20(1995)</td>\n",
              "      <td>0</td>\n",
              "      <td>0</td>\n",
              "      <td>0</td>\n",
              "      <td>0</td>\n",
              "      <td>0</td>\n",
              "      <td>0</td>\n",
              "      <td>1</td>\n",
              "      <td>0</td>\n",
              "      <td>1</td>\n",
              "      <td>0</td>\n",
              "      <td>0</td>\n",
              "      <td>0</td>\n",
              "      <td>0</td>\n",
              "      <td>0</td>\n",
              "      <td>0</td>\n",
              "      <td>0</td>\n",
              "      <td>1</td>\n",
              "      <td>0</td>\n",
              "    </tr>\n",
              "  </tbody>\n",
              "</table>\n",
              "</div>"
            ],
            "text/plain": [
              "   movie_id        movie_title release_date  ...  thriller war  western\n",
              "0         0   Toy Story (1995)  01-Jan-1995  ...         0   0        0\n",
              "1         1   GoldenEye (1995)  01-Jan-1995  ...         0   1        0\n",
              "2         2  Four Rooms (1995)  01-Jan-1995  ...         0   1        0\n",
              "3         3  Get Shorty (1995)  01-Jan-1995  ...         0   0        0\n",
              "4         4     Copycat (1995)  01-Jan-1995  ...         0   1        0\n",
              "\n",
              "[5 rows x 23 columns]"
            ]
          },
          "metadata": {
            "tags": []
          },
          "execution_count": 7
        }
      ]
    },
    {
      "cell_type": "markdown",
      "metadata": {
        "id": "NUyIhCeMKHWe"
      },
      "source": [
        "# **Load the ratings data into a dataframe**"
      ]
    },
    {
      "cell_type": "code",
      "metadata": {
        "id": "9r1HNSPUutC5"
      },
      "source": [
        "rating_df = pd.read_csv('/content/drive/MyDrive/AI/Project/data/raw/u.data', sep='\\t', header=None, names=['user_id','movie_id','rating','timestamp'])\n",
        "rating_df.user_id -= 1 # make this column zero-indexed\n",
        "rating_df.movie_id -= 1 # make this column zero-indexed"
      ],
      "execution_count": 8,
      "outputs": []
    },
    {
      "cell_type": "code",
      "metadata": {
        "id": "6fWODeXIutFi",
        "colab": {
          "base_uri": "https://localhost:8080/",
          "height": 0
        },
        "outputId": "ce5550ca-8278-477a-b185-fe1095cd149f"
      },
      "source": [
        "rating_df.head()"
      ],
      "execution_count": 9,
      "outputs": [
        {
          "output_type": "execute_result",
          "data": {
            "text/html": [
              "<div>\n",
              "<style scoped>\n",
              "    .dataframe tbody tr th:only-of-type {\n",
              "        vertical-align: middle;\n",
              "    }\n",
              "\n",
              "    .dataframe tbody tr th {\n",
              "        vertical-align: top;\n",
              "    }\n",
              "\n",
              "    .dataframe thead th {\n",
              "        text-align: right;\n",
              "    }\n",
              "</style>\n",
              "<table border=\"1\" class=\"dataframe\">\n",
              "  <thead>\n",
              "    <tr style=\"text-align: right;\">\n",
              "      <th></th>\n",
              "      <th>user_id</th>\n",
              "      <th>movie_id</th>\n",
              "      <th>rating</th>\n",
              "      <th>timestamp</th>\n",
              "    </tr>\n",
              "  </thead>\n",
              "  <tbody>\n",
              "    <tr>\n",
              "      <th>0</th>\n",
              "      <td>195</td>\n",
              "      <td>241</td>\n",
              "      <td>3</td>\n",
              "      <td>881250949</td>\n",
              "    </tr>\n",
              "    <tr>\n",
              "      <th>1</th>\n",
              "      <td>185</td>\n",
              "      <td>301</td>\n",
              "      <td>3</td>\n",
              "      <td>891717742</td>\n",
              "    </tr>\n",
              "    <tr>\n",
              "      <th>2</th>\n",
              "      <td>21</td>\n",
              "      <td>376</td>\n",
              "      <td>1</td>\n",
              "      <td>878887116</td>\n",
              "    </tr>\n",
              "    <tr>\n",
              "      <th>3</th>\n",
              "      <td>243</td>\n",
              "      <td>50</td>\n",
              "      <td>2</td>\n",
              "      <td>880606923</td>\n",
              "    </tr>\n",
              "    <tr>\n",
              "      <th>4</th>\n",
              "      <td>165</td>\n",
              "      <td>345</td>\n",
              "      <td>1</td>\n",
              "      <td>886397596</td>\n",
              "    </tr>\n",
              "  </tbody>\n",
              "</table>\n",
              "</div>"
            ],
            "text/plain": [
              "   user_id  movie_id  rating  timestamp\n",
              "0      195       241       3  881250949\n",
              "1      185       301       3  891717742\n",
              "2       21       376       1  878887116\n",
              "3      243        50       2  880606923\n",
              "4      165       345       1  886397596"
            ]
          },
          "metadata": {
            "tags": []
          },
          "execution_count": 9
        }
      ]
    },
    {
      "cell_type": "markdown",
      "metadata": {
        "id": "PKVXXjupKQ9s"
      },
      "source": [
        "# **Focus on the 10 movies with the most ratings**"
      ]
    },
    {
      "cell_type": "code",
      "metadata": {
        "id": "Zvhn42T9utIX"
      },
      "source": [
        "movie_counts = rating_df.groupby('movie_id')['rating'].count().sort_values(ascending=False)"
      ],
      "execution_count": 10,
      "outputs": []
    },
    {
      "cell_type": "code",
      "metadata": {
        "id": "fjMa4r09utK9"
      },
      "source": [
        "n_movies = 10\n",
        "top_n_movies = rating_df.query('movie_id in {}'.format((movie_counts[:n_movies].index.values.tolist())))"
      ],
      "execution_count": 11,
      "outputs": []
    },
    {
      "cell_type": "code",
      "metadata": {
        "id": "9W0-W8KovCJz"
      },
      "source": [
        "# add the movie title for ease of access when plotting\n",
        "# remove the timestamp column because we don't need it\n",
        "top_n_movies = top_n_movies.merge(movie_df[['movie_id','movie_title']], on='movie_id', how='left') \\\n",
        "                           .drop(columns=['timestamp'])"
      ],
      "execution_count": 12,
      "outputs": []
    },
    {
      "cell_type": "code",
      "metadata": {
        "id": "Lm6uwsKNvCM1"
      },
      "source": [
        "#remove the year from the title\n",
        "top_n_movies.movie_title = top_n_movies.movie_title.str.replace('\\s+\\(.+\\)', '').str.strip()"
      ],
      "execution_count": 13,
      "outputs": []
    },
    {
      "cell_type": "code",
      "metadata": {
        "id": "dYyvpDmjvCPw",
        "colab": {
          "base_uri": "https://localhost:8080/",
          "height": 191
        },
        "outputId": "38d320aa-8804-429e-f13c-5c4830a59f89"
      },
      "source": [
        "top_n_movies.head()"
      ],
      "execution_count": 14,
      "outputs": [
        {
          "output_type": "execute_result",
          "data": {
            "text/html": [
              "<div>\n",
              "<style scoped>\n",
              "    .dataframe tbody tr th:only-of-type {\n",
              "        vertical-align: middle;\n",
              "    }\n",
              "\n",
              "    .dataframe tbody tr th {\n",
              "        vertical-align: top;\n",
              "    }\n",
              "\n",
              "    .dataframe thead th {\n",
              "        text-align: right;\n",
              "    }\n",
              "</style>\n",
              "<table border=\"1\" class=\"dataframe\">\n",
              "  <thead>\n",
              "    <tr style=\"text-align: right;\">\n",
              "      <th></th>\n",
              "      <th>user_id</th>\n",
              "      <th>movie_id</th>\n",
              "      <th>rating</th>\n",
              "      <th>movie_title</th>\n",
              "    </tr>\n",
              "  </thead>\n",
              "  <tbody>\n",
              "    <tr>\n",
              "      <th>0</th>\n",
              "      <td>307</td>\n",
              "      <td>0</td>\n",
              "      <td>4</td>\n",
              "      <td>Toy Story</td>\n",
              "    </tr>\n",
              "    <tr>\n",
              "      <th>1</th>\n",
              "      <td>250</td>\n",
              "      <td>99</td>\n",
              "      <td>4</td>\n",
              "      <td>Fargo</td>\n",
              "    </tr>\n",
              "    <tr>\n",
              "      <th>2</th>\n",
              "      <td>24</td>\n",
              "      <td>180</td>\n",
              "      <td>5</td>\n",
              "      <td>Return of the Jedi</td>\n",
              "    </tr>\n",
              "    <tr>\n",
              "      <th>3</th>\n",
              "      <td>19</td>\n",
              "      <td>287</td>\n",
              "      <td>1</td>\n",
              "      <td>Scream</td>\n",
              "    </tr>\n",
              "    <tr>\n",
              "      <th>4</th>\n",
              "      <td>31</td>\n",
              "      <td>293</td>\n",
              "      <td>3</td>\n",
              "      <td>Liar Liar</td>\n",
              "    </tr>\n",
              "  </tbody>\n",
              "</table>\n",
              "</div>"
            ],
            "text/plain": [
              "   user_id  movie_id  rating         movie_title\n",
              "0      307         0       4           Toy Story\n",
              "1      250        99       4               Fargo\n",
              "2       24       180       5  Return of the Jedi\n",
              "3       19       287       1              Scream\n",
              "4       31       293       3           Liar Liar"
            ]
          },
          "metadata": {
            "tags": []
          },
          "execution_count": 14
        }
      ]
    },
    {
      "cell_type": "code",
      "metadata": {
        "id": "CHyMT1PGvCSX"
      },
      "source": [
        "# save the output for use in other notebooks\n",
        "top_n_movies.to_csv('/content/drive/MyDrive/AI/Project/data/top-n-movies_user-ratings.csv')"
      ],
      "execution_count": 15,
      "outputs": []
    },
    {
      "cell_type": "code",
      "metadata": {
        "id": "CXQE0cCRvCVH",
        "colab": {
          "base_uri": "https://localhost:8080/"
        },
        "outputId": "7766a2cb-f892-487f-e727-dc8dd5a57583"
      },
      "source": [
        "top_n_movies.movie_title.unique().tolist()"
      ],
      "execution_count": 16,
      "outputs": [
        {
          "output_type": "execute_result",
          "data": {
            "text/plain": [
              "['Toy Story',\n",
              " 'Fargo',\n",
              " 'Return of the Jedi',\n",
              " 'Scream',\n",
              " 'Liar Liar',\n",
              " 'Contact',\n",
              " 'English Patient, The',\n",
              " 'Star Wars',\n",
              " 'Independence Day',\n",
              " 'Air Force One']"
            ]
          },
          "metadata": {
            "tags": []
          },
          "execution_count": 16
        }
      ]
    },
    {
      "cell_type": "code",
      "metadata": {
        "id": "ks4-e3BhvSZl",
        "colab": {
          "base_uri": "https://localhost:8080/"
        },
        "outputId": "4088cbbc-b8e8-45c9-85ae-88b52e2a7ef0"
      },
      "source": [
        "color_map = dict(zip(top_n_movies.movie_title.sort_values().unique().tolist(), color_blind_palette_10))\n",
        "color_map"
      ],
      "execution_count": 17,
      "outputs": [
        {
          "output_type": "execute_result",
          "data": {
            "text/plain": [
              "{'Air Force One': '#cfcfcf',\n",
              " 'Contact': '#ffbc79',\n",
              " 'English Patient, The': '#a2c8ec',\n",
              " 'Fargo': '#898989',\n",
              " 'Independence Day': '#c85200',\n",
              " 'Liar Liar': '#5f9ed1',\n",
              " 'Return of the Jedi': '#595959',\n",
              " 'Scream': '#ababab',\n",
              " 'Star Wars': '#ff800e',\n",
              " 'Toy Story': '#006ba4'}"
            ]
          },
          "metadata": {
            "tags": []
          },
          "execution_count": 17
        }
      ]
    },
    {
      "cell_type": "code",
      "metadata": {
        "id": "C-ECtG-TvScP"
      },
      "source": [
        "rating_counts_by_movie = top_n_movies.groupby(['movie_id','movie_title','rating'], as_index=False).size().value_counts().to_frame('count').reset_index()\n",
        "\n",
        "\n",
        "rating_counts_by_movie =pd.DataFrame({'count' : top_n_movies.groupby( [ \"movie_id\", \"movie_title\",\"rating\"] ).size()}).reset_index()"
      ],
      "execution_count": 18,
      "outputs": []
    },
    {
      "cell_type": "code",
      "metadata": {
        "id": "2-KNWSdevSe-",
        "colab": {
          "base_uri": "https://localhost:8080/",
          "height": 191
        },
        "outputId": "525ecf4b-7a89-4f78-f007-894a5dee8f53"
      },
      "source": [
        "rating_counts_by_movie.head()"
      ],
      "execution_count": 19,
      "outputs": [
        {
          "output_type": "execute_result",
          "data": {
            "text/html": [
              "<div>\n",
              "<style scoped>\n",
              "    .dataframe tbody tr th:only-of-type {\n",
              "        vertical-align: middle;\n",
              "    }\n",
              "\n",
              "    .dataframe tbody tr th {\n",
              "        vertical-align: top;\n",
              "    }\n",
              "\n",
              "    .dataframe thead th {\n",
              "        text-align: right;\n",
              "    }\n",
              "</style>\n",
              "<table border=\"1\" class=\"dataframe\">\n",
              "  <thead>\n",
              "    <tr style=\"text-align: right;\">\n",
              "      <th></th>\n",
              "      <th>movie_id</th>\n",
              "      <th>movie_title</th>\n",
              "      <th>rating</th>\n",
              "      <th>count</th>\n",
              "    </tr>\n",
              "  </thead>\n",
              "  <tbody>\n",
              "    <tr>\n",
              "      <th>0</th>\n",
              "      <td>0</td>\n",
              "      <td>Toy Story</td>\n",
              "      <td>1</td>\n",
              "      <td>8</td>\n",
              "    </tr>\n",
              "    <tr>\n",
              "      <th>1</th>\n",
              "      <td>0</td>\n",
              "      <td>Toy Story</td>\n",
              "      <td>2</td>\n",
              "      <td>27</td>\n",
              "    </tr>\n",
              "    <tr>\n",
              "      <th>2</th>\n",
              "      <td>0</td>\n",
              "      <td>Toy Story</td>\n",
              "      <td>3</td>\n",
              "      <td>96</td>\n",
              "    </tr>\n",
              "    <tr>\n",
              "      <th>3</th>\n",
              "      <td>0</td>\n",
              "      <td>Toy Story</td>\n",
              "      <td>4</td>\n",
              "      <td>202</td>\n",
              "    </tr>\n",
              "    <tr>\n",
              "      <th>4</th>\n",
              "      <td>0</td>\n",
              "      <td>Toy Story</td>\n",
              "      <td>5</td>\n",
              "      <td>119</td>\n",
              "    </tr>\n",
              "  </tbody>\n",
              "</table>\n",
              "</div>"
            ],
            "text/plain": [
              "   movie_id movie_title  rating  count\n",
              "0         0   Toy Story       1      8\n",
              "1         0   Toy Story       2     27\n",
              "2         0   Toy Story       3     96\n",
              "3         0   Toy Story       4    202\n",
              "4         0   Toy Story       5    119"
            ]
          },
          "metadata": {
            "tags": []
          },
          "execution_count": 19
        }
      ]
    },
    {
      "cell_type": "code",
      "metadata": {
        "id": "bJVS-59fvShj",
        "colab": {
          "base_uri": "https://localhost:8080/",
          "height": 832
        },
        "outputId": "77cd03c4-9775-4cb5-9e16-46a7dd237471"
      },
      "source": [
        "sns.set_palette(color_blind_palette_10)\n",
        "\n",
        "rating_v_count_ax = sns.factorplot(data=rating_counts_by_movie, x='rating', y='count',hue='movie_title', hue_order=color_map.keys(), size=10, aspect=1.5, kind='bar', legend=False)\n",
        "\n",
        "plt.title('Rating Histogram for the 10 Movies with the Most Ratings')\n",
        "plt.xlabel('Rating')\n",
        "plt.ylabel('Number of Ratings')\n",
        "\n",
        "plt.legend(title='')\n",
        "\n",
        "plt.show()"
      ],
      "execution_count": 20,
      "outputs": [
        {
          "output_type": "stream",
          "text": [
            "/usr/local/lib/python3.6/dist-packages/seaborn/categorical.py:3704: UserWarning: The `factorplot` function has been renamed to `catplot`. The original name will be removed in a future release. Please update your code. Note that the default `kind` in `factorplot` (`'point'`) has changed `'strip'` in `catplot`.\n",
            "  warnings.warn(msg)\n",
            "/usr/local/lib/python3.6/dist-packages/seaborn/categorical.py:3710: UserWarning: The `size` parameter has been renamed to `height`; please update your code.\n",
            "  warnings.warn(msg, UserWarning)\n"
          ],
          "name": "stderr"
        },
        {
          "output_type": "display_data",
          "data": {
            "image/png": "[encoded data removed]",
            "text/plain": [
              "<Figure size 1080x720 with 1 Axes>"
            ]
          },
          "metadata": {
            "tags": []
          }
        }
      ]
    },
    {
      "cell_type": "code",
      "metadata": {
        "id": "avBjoZ97vSkY"
      },
      "source": [
        "rating_v_count_ax.savefig('/content/drive/MyDrive/AI/Project/output/images/rating_distributions.png', transparent=False)"
      ],
      "execution_count": 21,
      "outputs": []
    },
    {
      "cell_type": "markdown",
      "metadata": {
        "id": "TRU3yRR1KgG8"
      },
      "source": [
        "# **Transform the ratings from a discrete range into a binary \"like\" or \"dislike\"**"
      ]
    },
    {
      "cell_type": "code",
      "metadata": {
        "id": "tEJAS3f4vSm0"
      },
      "source": [
        "# movie ratings above this threshold will be counted as a \"like\"\n",
        "reward_threshold = 4"
      ],
      "execution_count": 22,
      "outputs": []
    },
    {
      "cell_type": "code",
      "metadata": {
        "id": "9zl4np9HvCXo",
        "colab": {
          "base_uri": "https://localhost:8080/",
          "height": 220
        },
        "outputId": "d30674e3-d6e2-4c98-a9b4-eb5412f10a3b"
      },
      "source": [
        "rating_counts_by_movie.eval('liked = rating > @reward_threshold') \\\n",
        "                      .groupby(['movie_title','liked']) \\\n",
        "                      .sum().head()"
      ],
      "execution_count": 23,
      "outputs": [
        {
          "output_type": "execute_result",
          "data": {
            "text/html": [
              "<div>\n",
              "<style scoped>\n",
              "    .dataframe tbody tr th:only-of-type {\n",
              "        vertical-align: middle;\n",
              "    }\n",
              "\n",
              "    .dataframe tbody tr th {\n",
              "        vertical-align: top;\n",
              "    }\n",
              "\n",
              "    .dataframe thead th {\n",
              "        text-align: right;\n",
              "    }\n",
              "</style>\n",
              "<table border=\"1\" class=\"dataframe\">\n",
              "  <thead>\n",
              "    <tr style=\"text-align: right;\">\n",
              "      <th></th>\n",
              "      <th></th>\n",
              "      <th>movie_id</th>\n",
              "      <th>rating</th>\n",
              "      <th>count</th>\n",
              "    </tr>\n",
              "    <tr>\n",
              "      <th>movie_title</th>\n",
              "      <th>liked</th>\n",
              "      <th></th>\n",
              "      <th></th>\n",
              "      <th></th>\n",
              "    </tr>\n",
              "  </thead>\n",
              "  <tbody>\n",
              "    <tr>\n",
              "      <th rowspan=\"2\" valign=\"top\">Air Force One</th>\n",
              "      <th>False</th>\n",
              "      <td>1196</td>\n",
              "      <td>10</td>\n",
              "      <td>346</td>\n",
              "    </tr>\n",
              "    <tr>\n",
              "      <th>True</th>\n",
              "      <td>299</td>\n",
              "      <td>5</td>\n",
              "      <td>85</td>\n",
              "    </tr>\n",
              "    <tr>\n",
              "      <th rowspan=\"2\" valign=\"top\">Contact</th>\n",
              "      <th>False</th>\n",
              "      <td>1028</td>\n",
              "      <td>10</td>\n",
              "      <td>377</td>\n",
              "    </tr>\n",
              "    <tr>\n",
              "      <th>True</th>\n",
              "      <td>257</td>\n",
              "      <td>5</td>\n",
              "      <td>132</td>\n",
              "    </tr>\n",
              "    <tr>\n",
              "      <th>English Patient, The</th>\n",
              "      <th>False</th>\n",
              "      <td>1140</td>\n",
              "      <td>10</td>\n",
              "      <td>350</td>\n",
              "    </tr>\n",
              "  </tbody>\n",
              "</table>\n",
              "</div>"
            ],
            "text/plain": [
              "                            movie_id  rating  count\n",
              "movie_title          liked                         \n",
              "Air Force One        False      1196      10    346\n",
              "                     True        299       5     85\n",
              "Contact              False      1028      10    377\n",
              "                     True        257       5    132\n",
              "English Patient, The False      1140      10    350"
            ]
          },
          "metadata": {
            "tags": []
          },
          "execution_count": 23
        }
      ]
    },
    {
      "cell_type": "code",
      "metadata": {
        "id": "LIJ6w3SLvmPp",
        "colab": {
          "base_uri": "https://localhost:8080/",
          "height": 191
        },
        "outputId": "2c05b565-be40-4d67-915b-35f97a471dcd"
      },
      "source": [
        "rating_counts_by_movie.eval('liked = rating > @reward_threshold') \\\n",
        "                      .groupby(['movie_title','liked'], as_index=False) \\\n",
        "                      .sum().head()"
      ],
      "execution_count": 24,
      "outputs": [
        {
          "output_type": "execute_result",
          "data": {
            "text/html": [
              "<div>\n",
              "<style scoped>\n",
              "    .dataframe tbody tr th:only-of-type {\n",
              "        vertical-align: middle;\n",
              "    }\n",
              "\n",
              "    .dataframe tbody tr th {\n",
              "        vertical-align: top;\n",
              "    }\n",
              "\n",
              "    .dataframe thead th {\n",
              "        text-align: right;\n",
              "    }\n",
              "</style>\n",
              "<table border=\"1\" class=\"dataframe\">\n",
              "  <thead>\n",
              "    <tr style=\"text-align: right;\">\n",
              "      <th></th>\n",
              "      <th>movie_title</th>\n",
              "      <th>liked</th>\n",
              "      <th>movie_id</th>\n",
              "      <th>rating</th>\n",
              "      <th>count</th>\n",
              "    </tr>\n",
              "  </thead>\n",
              "  <tbody>\n",
              "    <tr>\n",
              "      <th>0</th>\n",
              "      <td>Air Force One</td>\n",
              "      <td>False</td>\n",
              "      <td>1196</td>\n",
              "      <td>10</td>\n",
              "      <td>346</td>\n",
              "    </tr>\n",
              "    <tr>\n",
              "      <th>1</th>\n",
              "      <td>Air Force One</td>\n",
              "      <td>True</td>\n",
              "      <td>299</td>\n",
              "      <td>5</td>\n",
              "      <td>85</td>\n",
              "    </tr>\n",
              "    <tr>\n",
              "      <th>2</th>\n",
              "      <td>Contact</td>\n",
              "      <td>False</td>\n",
              "      <td>1028</td>\n",
              "      <td>10</td>\n",
              "      <td>377</td>\n",
              "    </tr>\n",
              "    <tr>\n",
              "      <th>3</th>\n",
              "      <td>Contact</td>\n",
              "      <td>True</td>\n",
              "      <td>257</td>\n",
              "      <td>5</td>\n",
              "      <td>132</td>\n",
              "    </tr>\n",
              "    <tr>\n",
              "      <th>4</th>\n",
              "      <td>English Patient, The</td>\n",
              "      <td>False</td>\n",
              "      <td>1140</td>\n",
              "      <td>10</td>\n",
              "      <td>350</td>\n",
              "    </tr>\n",
              "  </tbody>\n",
              "</table>\n",
              "</div>"
            ],
            "text/plain": [
              "            movie_title  liked  movie_id  rating  count\n",
              "0         Air Force One  False      1196      10    346\n",
              "1         Air Force One   True       299       5     85\n",
              "2               Contact  False      1028      10    377\n",
              "3               Contact   True       257       5    132\n",
              "4  English Patient, The  False      1140      10    350"
            ]
          },
          "metadata": {
            "tags": []
          },
          "execution_count": 24
        }
      ]
    },
    {
      "cell_type": "code",
      "metadata": {
        "id": "4cvIH_FSvmSi"
      },
      "source": [
        "total_reward_counts = rating_counts_by_movie.eval('liked = rating > @reward_threshold') \\\n",
        "    .groupby(['movie_id','movie_title','liked'])['count'] \\\n",
        "    .sum() \\\n",
        "    .unstack('liked') \\\n",
        "    .reset_index() \\\n",
        "    .rename(columns={False:'disliked', True:'liked'}) \\\n",
        "    .eval('total = disliked + liked') \\\n",
        "    .eval('like_pct = 100 * liked / total')"
      ],
      "execution_count": 25,
      "outputs": []
    },
    {
      "cell_type": "code",
      "metadata": {
        "id": "yO4MCxT8vmVC",
        "colab": {
          "base_uri": "https://localhost:8080/",
          "height": 335
        },
        "outputId": "6cf0f160-02b4-4c97-fb35-1beaff944104"
      },
      "source": [
        "total_reward_counts.sort_values('like_pct', ascending=False, inplace=True)\n",
        "total_reward_counts.head(10)"
      ],
      "execution_count": 26,
      "outputs": [
        {
          "output_type": "execute_result",
          "data": {
            "text/html": [
              "<div>\n",
              "<style scoped>\n",
              "    .dataframe tbody tr th:only-of-type {\n",
              "        vertical-align: middle;\n",
              "    }\n",
              "\n",
              "    .dataframe tbody tr th {\n",
              "        vertical-align: top;\n",
              "    }\n",
              "\n",
              "    .dataframe thead th {\n",
              "        text-align: right;\n",
              "    }\n",
              "</style>\n",
              "<table border=\"1\" class=\"dataframe\">\n",
              "  <thead>\n",
              "    <tr style=\"text-align: right;\">\n",
              "      <th>liked</th>\n",
              "      <th>movie_id</th>\n",
              "      <th>movie_title</th>\n",
              "      <th>disliked</th>\n",
              "      <th>liked</th>\n",
              "      <th>total</th>\n",
              "      <th>like_pct</th>\n",
              "    </tr>\n",
              "  </thead>\n",
              "  <tbody>\n",
              "    <tr>\n",
              "      <th>1</th>\n",
              "      <td>49</td>\n",
              "      <td>Star Wars</td>\n",
              "      <td>258</td>\n",
              "      <td>325</td>\n",
              "      <td>583</td>\n",
              "      <td>55.746141</td>\n",
              "    </tr>\n",
              "    <tr>\n",
              "      <th>2</th>\n",
              "      <td>99</td>\n",
              "      <td>Fargo</td>\n",
              "      <td>281</td>\n",
              "      <td>227</td>\n",
              "      <td>508</td>\n",
              "      <td>44.685039</td>\n",
              "    </tr>\n",
              "    <tr>\n",
              "      <th>4</th>\n",
              "      <td>180</td>\n",
              "      <td>Return of the Jedi</td>\n",
              "      <td>336</td>\n",
              "      <td>171</td>\n",
              "      <td>507</td>\n",
              "      <td>33.727811</td>\n",
              "    </tr>\n",
              "    <tr>\n",
              "      <th>6</th>\n",
              "      <td>285</td>\n",
              "      <td>English Patient, The</td>\n",
              "      <td>350</td>\n",
              "      <td>131</td>\n",
              "      <td>481</td>\n",
              "      <td>27.234927</td>\n",
              "    </tr>\n",
              "    <tr>\n",
              "      <th>0</th>\n",
              "      <td>0</td>\n",
              "      <td>Toy Story</td>\n",
              "      <td>333</td>\n",
              "      <td>119</td>\n",
              "      <td>452</td>\n",
              "      <td>26.327434</td>\n",
              "    </tr>\n",
              "    <tr>\n",
              "      <th>5</th>\n",
              "      <td>257</td>\n",
              "      <td>Contact</td>\n",
              "      <td>377</td>\n",
              "      <td>132</td>\n",
              "      <td>509</td>\n",
              "      <td>25.933202</td>\n",
              "    </tr>\n",
              "    <tr>\n",
              "      <th>9</th>\n",
              "      <td>299</td>\n",
              "      <td>Air Force One</td>\n",
              "      <td>346</td>\n",
              "      <td>85</td>\n",
              "      <td>431</td>\n",
              "      <td>19.721578</td>\n",
              "    </tr>\n",
              "    <tr>\n",
              "      <th>7</th>\n",
              "      <td>287</td>\n",
              "      <td>Scream</td>\n",
              "      <td>393</td>\n",
              "      <td>85</td>\n",
              "      <td>478</td>\n",
              "      <td>17.782427</td>\n",
              "    </tr>\n",
              "    <tr>\n",
              "      <th>3</th>\n",
              "      <td>120</td>\n",
              "      <td>Independence Day</td>\n",
              "      <td>353</td>\n",
              "      <td>76</td>\n",
              "      <td>429</td>\n",
              "      <td>17.715618</td>\n",
              "    </tr>\n",
              "    <tr>\n",
              "      <th>8</th>\n",
              "      <td>293</td>\n",
              "      <td>Liar Liar</td>\n",
              "      <td>439</td>\n",
              "      <td>46</td>\n",
              "      <td>485</td>\n",
              "      <td>9.484536</td>\n",
              "    </tr>\n",
              "  </tbody>\n",
              "</table>\n",
              "</div>"
            ],
            "text/plain": [
              "liked  movie_id           movie_title  disliked  liked  total   like_pct\n",
              "1            49             Star Wars       258    325    583  55.746141\n",
              "2            99                 Fargo       281    227    508  44.685039\n",
              "4           180    Return of the Jedi       336    171    507  33.727811\n",
              "6           285  English Patient, The       350    131    481  27.234927\n",
              "0             0             Toy Story       333    119    452  26.327434\n",
              "5           257               Contact       377    132    509  25.933202\n",
              "9           299         Air Force One       346     85    431  19.721578\n",
              "7           287                Scream       393     85    478  17.782427\n",
              "3           120      Independence Day       353     76    429  17.715618\n",
              "8           293             Liar Liar       439     46    485   9.484536"
            ]
          },
          "metadata": {
            "tags": []
          },
          "execution_count": 26
        }
      ]
    },
    {
      "cell_type": "code",
      "metadata": {
        "id": "tn0r5GrRvmX0",
        "colab": {
          "base_uri": "https://localhost:8080/",
          "height": 832
        },
        "outputId": "1fb74f4d-c244-424b-96c2-a6922754a822"
      },
      "source": [
        "like_probability_ax = sns.factorplot(size=10, aspect=1.5, x='like_pct', y='movie_title', kind='bar',\n",
        "                                     palette=total_reward_counts['movie_title'].apply(lambda x: color_map[x]),\n",
        "                                     data=total_reward_counts)\n",
        "\n",
        "plt.title('The 10 Movies with the Most Ratings')\n",
        "like_probability_ax.set_axis_labels('Probability of Being \"Liked\" (%)','')\n",
        "\n",
        "plt.show()\n"
      ],
      "execution_count": 27,
      "outputs": [
        {
          "output_type": "stream",
          "text": [
            "/usr/local/lib/python3.6/dist-packages/seaborn/categorical.py:3704: UserWarning: The `factorplot` function has been renamed to `catplot`. The original name will be removed in a future release. Please update your code. Note that the default `kind` in `factorplot` (`'point'`) has changed `'strip'` in `catplot`.\n",
            "  warnings.warn(msg)\n",
            "/usr/local/lib/python3.6/dist-packages/seaborn/categorical.py:3710: UserWarning: The `size` parameter has been renamed to `height`; please update your code.\n",
            "  warnings.warn(msg, UserWarning)\n"
          ],
          "name": "stderr"
        },
        {
          "output_type": "display_data",
          "data": {
            "image/png": "[encoded data removed]",
            "text/plain": [
              "<Figure size 1080x720 with 1 Axes>"
            ]
          },
          "metadata": {
            "tags": []
          }
        }
      ]
    },
    {
      "cell_type": "code",
      "metadata": {
        "id": "6HQc6QBVvmak"
      },
      "source": [
        "like_probability_ax.savefig('/content/drive/MyDrive/AI/Project/output/images/like_probabilities.png', transparent=False)"
      ],
      "execution_count": 28,
      "outputs": []
    },
    {
      "cell_type": "code",
      "metadata": {
        "id": "uTxnuOVFX-xw"
      },
      "source": [
        "from Replayers import ABTestReplayer, EpsilonGreedyReplayer, ThompsonSamplingReplayer"
      ],
      "execution_count": 29,
      "outputs": []
    },
    {
      "cell_type": "markdown",
      "metadata": {
        "id": "T6IZr1oiK0qp"
      },
      "source": [
        "# **Load historical data**"
      ]
    },
    {
      "cell_type": "code",
      "metadata": {
        "id": "L4ECRf-vvmdf",
        "colab": {
          "base_uri": "https://localhost:8080/",
          "height": 191
        },
        "outputId": "64b93e1f-f199-49f3-e099-09a63e3d7339"
      },
      "source": [
        "rating_df = pd.read_csv('/content/drive/MyDrive/AI/Project/data/top-n-movies_user-ratings.csv').drop(columns='Unnamed: 0')\n",
        "rating_df.head()"
      ],
      "execution_count": 30,
      "outputs": [
        {
          "output_type": "execute_result",
          "data": {
            "text/html": [
              "<div>\n",
              "<style scoped>\n",
              "    .dataframe tbody tr th:only-of-type {\n",
              "        vertical-align: middle;\n",
              "    }\n",
              "\n",
              "    .dataframe tbody tr th {\n",
              "        vertical-align: top;\n",
              "    }\n",
              "\n",
              "    .dataframe thead th {\n",
              "        text-align: right;\n",
              "    }\n",
              "</style>\n",
              "<table border=\"1\" class=\"dataframe\">\n",
              "  <thead>\n",
              "    <tr style=\"text-align: right;\">\n",
              "      <th></th>\n",
              "      <th>user_id</th>\n",
              "      <th>movie_id</th>\n",
              "      <th>rating</th>\n",
              "      <th>movie_title</th>\n",
              "    </tr>\n",
              "  </thead>\n",
              "  <tbody>\n",
              "    <tr>\n",
              "      <th>0</th>\n",
              "      <td>307</td>\n",
              "      <td>0</td>\n",
              "      <td>4</td>\n",
              "      <td>Toy Story</td>\n",
              "    </tr>\n",
              "    <tr>\n",
              "      <th>1</th>\n",
              "      <td>250</td>\n",
              "      <td>99</td>\n",
              "      <td>4</td>\n",
              "      <td>Fargo</td>\n",
              "    </tr>\n",
              "    <tr>\n",
              "      <th>2</th>\n",
              "      <td>24</td>\n",
              "      <td>180</td>\n",
              "      <td>5</td>\n",
              "      <td>Return of the Jedi</td>\n",
              "    </tr>\n",
              "    <tr>\n",
              "      <th>3</th>\n",
              "      <td>19</td>\n",
              "      <td>287</td>\n",
              "      <td>1</td>\n",
              "      <td>Scream</td>\n",
              "    </tr>\n",
              "    <tr>\n",
              "      <th>4</th>\n",
              "      <td>31</td>\n",
              "      <td>293</td>\n",
              "      <td>3</td>\n",
              "      <td>Liar Liar</td>\n",
              "    </tr>\n",
              "  </tbody>\n",
              "</table>\n",
              "</div>"
            ],
            "text/plain": [
              "   user_id  movie_id  rating         movie_title\n",
              "0      307         0       4           Toy Story\n",
              "1      250        99       4               Fargo\n",
              "2       24       180       5  Return of the Jedi\n",
              "3       19       287       1              Scream\n",
              "4       31       293       3           Liar Liar"
            ]
          },
          "metadata": {
            "tags": []
          },
          "execution_count": 30
        }
      ]
    },
    {
      "cell_type": "markdown",
      "metadata": {
        "id": "EIEdIz9uK76v"
      },
      "source": [
        "# **Translate ratings into a binary reward value**"
      ]
    },
    {
      "cell_type": "code",
      "metadata": {
        "id": "pHXtRUjevmgP",
        "colab": {
          "base_uri": "https://localhost:8080/",
          "height": 191
        },
        "outputId": "8c1f3707-3dce-4cba-8d45-95f543055826"
      },
      "source": [
        "reward_threshold = 4\n",
        "rating_df['reward'] = rating_df.eval('rating > @reward_threshold').astype(int)\n",
        "rating_df.head()\n"
      ],
      "execution_count": 31,
      "outputs": [
        {
          "output_type": "execute_result",
          "data": {
            "text/html": [
              "<div>\n",
              "<style scoped>\n",
              "    .dataframe tbody tr th:only-of-type {\n",
              "        vertical-align: middle;\n",
              "    }\n",
              "\n",
              "    .dataframe tbody tr th {\n",
              "        vertical-align: top;\n",
              "    }\n",
              "\n",
              "    .dataframe thead th {\n",
              "        text-align: right;\n",
              "    }\n",
              "</style>\n",
              "<table border=\"1\" class=\"dataframe\">\n",
              "  <thead>\n",
              "    <tr style=\"text-align: right;\">\n",
              "      <th></th>\n",
              "      <th>user_id</th>\n",
              "      <th>movie_id</th>\n",
              "      <th>rating</th>\n",
              "      <th>movie_title</th>\n",
              "      <th>reward</th>\n",
              "    </tr>\n",
              "  </thead>\n",
              "  <tbody>\n",
              "    <tr>\n",
              "      <th>0</th>\n",
              "      <td>307</td>\n",
              "      <td>0</td>\n",
              "      <td>4</td>\n",
              "      <td>Toy Story</td>\n",
              "      <td>0</td>\n",
              "    </tr>\n",
              "    <tr>\n",
              "      <th>1</th>\n",
              "      <td>250</td>\n",
              "      <td>99</td>\n",
              "      <td>4</td>\n",
              "      <td>Fargo</td>\n",
              "      <td>0</td>\n",
              "    </tr>\n",
              "    <tr>\n",
              "      <th>2</th>\n",
              "      <td>24</td>\n",
              "      <td>180</td>\n",
              "      <td>5</td>\n",
              "      <td>Return of the Jedi</td>\n",
              "      <td>1</td>\n",
              "    </tr>\n",
              "    <tr>\n",
              "      <th>3</th>\n",
              "      <td>19</td>\n",
              "      <td>287</td>\n",
              "      <td>1</td>\n",
              "      <td>Scream</td>\n",
              "      <td>0</td>\n",
              "    </tr>\n",
              "    <tr>\n",
              "      <th>4</th>\n",
              "      <td>31</td>\n",
              "      <td>293</td>\n",
              "      <td>3</td>\n",
              "      <td>Liar Liar</td>\n",
              "      <td>0</td>\n",
              "    </tr>\n",
              "  </tbody>\n",
              "</table>\n",
              "</div>"
            ],
            "text/plain": [
              "   user_id  movie_id  rating         movie_title  reward\n",
              "0      307         0       4           Toy Story       0\n",
              "1      250        99       4               Fargo       0\n",
              "2       24       180       5  Return of the Jedi       1\n",
              "3       19       287       1              Scream       0\n",
              "4       31       293       3           Liar Liar       0"
            ]
          },
          "metadata": {
            "tags": []
          },
          "execution_count": 31
        }
      ]
    },
    {
      "cell_type": "markdown",
      "metadata": {
        "id": "56f0wr5hLBKv"
      },
      "source": [
        "# **Set the parameters for the simulations**"
      ]
    },
    {
      "cell_type": "code",
      "metadata": {
        "id": "bOwirDHzvmjG"
      },
      "source": [
        "n_visits = 20000\n",
        "n_iterations = 20\n",
        "\n",
        "reward_history = rating_df\n",
        "item_col_name = 'movie_id'\n",
        "visitor_col_name = 'user_id'\n",
        "reward_col_name = 'reward'"
      ],
      "execution_count": 32,
      "outputs": []
    },
    {
      "cell_type": "markdown",
      "metadata": {
        "id": "V9mUIETeLEDT"
      },
      "source": [
        "# **A/B Test Simulations**"
      ]
    },
    {
      "cell_type": "markdown",
      "metadata": {
        "id": "Y00ts-N1LI2A"
      },
      "source": [
        "**Test period = 1,000 visits**"
      ]
    },
    {
      "cell_type": "code",
      "metadata": {
        "id": "4AcgG7sAvml5",
        "colab": {
          "base_uri": "https://localhost:8080/"
        },
        "outputId": "ab045779-ec3e-4e5e-851f-e9884c49f236"
      },
      "source": [
        "n_test_visits = 1000\n",
        "ab_1k_results = ABTestReplayer(n_visits, n_test_visits, reward_history,\n",
        "                               item_col_name, visitor_col_name, reward_col_name,\n",
        "                               n_iterations=n_iterations).replay()"
      ],
      "execution_count": 33,
      "outputs": [
        {
          "output_type": "stream",
          "text": [
            "100%|██████████| 20/20 [27:41<00:00, 83.07s/it]\n"
          ],
          "name": "stderr"
        }
      ]
    },
    {
      "cell_type": "code",
      "metadata": {
        "id": "8Z_vUzjqvmoq",
        "colab": {
          "base_uri": "https://localhost:8080/",
          "height": 191
        },
        "outputId": "20420766-b79a-4558-e374-8a5d3ea5aa4f"
      },
      "source": [
        "ab_1k_results_df = pd.DataFrame(ab_1k_results)\n",
        "ab_1k_results_df.head()"
      ],
      "execution_count": 34,
      "outputs": [
        {
          "output_type": "execute_result",
          "data": {
            "text/html": [
              "<div>\n",
              "<style scoped>\n",
              "    .dataframe tbody tr th:only-of-type {\n",
              "        vertical-align: middle;\n",
              "    }\n",
              "\n",
              "    .dataframe tbody tr th {\n",
              "        vertical-align: top;\n",
              "    }\n",
              "\n",
              "    .dataframe thead th {\n",
              "        text-align: right;\n",
              "    }\n",
              "</style>\n",
              "<table border=\"1\" class=\"dataframe\">\n",
              "  <thead>\n",
              "    <tr style=\"text-align: right;\">\n",
              "      <th></th>\n",
              "      <th>iteration</th>\n",
              "      <th>visit</th>\n",
              "      <th>item_id</th>\n",
              "      <th>visitor_id</th>\n",
              "      <th>reward</th>\n",
              "      <th>total_reward</th>\n",
              "      <th>fraction_relevant</th>\n",
              "    </tr>\n",
              "  </thead>\n",
              "  <tbody>\n",
              "    <tr>\n",
              "      <th>0</th>\n",
              "      <td>0</td>\n",
              "      <td>0</td>\n",
              "      <td>120</td>\n",
              "      <td>12</td>\n",
              "      <td>1</td>\n",
              "      <td>1</td>\n",
              "      <td>1.000000</td>\n",
              "    </tr>\n",
              "    <tr>\n",
              "      <th>1</th>\n",
              "      <td>0</td>\n",
              "      <td>1</td>\n",
              "      <td>299</td>\n",
              "      <td>783</td>\n",
              "      <td>0</td>\n",
              "      <td>1</td>\n",
              "      <td>0.500000</td>\n",
              "    </tr>\n",
              "    <tr>\n",
              "      <th>2</th>\n",
              "      <td>0</td>\n",
              "      <td>2</td>\n",
              "      <td>49</td>\n",
              "      <td>649</td>\n",
              "      <td>1</td>\n",
              "      <td>2</td>\n",
              "      <td>0.666667</td>\n",
              "    </tr>\n",
              "    <tr>\n",
              "      <th>3</th>\n",
              "      <td>0</td>\n",
              "      <td>3</td>\n",
              "      <td>49</td>\n",
              "      <td>837</td>\n",
              "      <td>1</td>\n",
              "      <td>3</td>\n",
              "      <td>0.750000</td>\n",
              "    </tr>\n",
              "    <tr>\n",
              "      <th>4</th>\n",
              "      <td>0</td>\n",
              "      <td>4</td>\n",
              "      <td>49</td>\n",
              "      <td>483</td>\n",
              "      <td>1</td>\n",
              "      <td>4</td>\n",
              "      <td>0.800000</td>\n",
              "    </tr>\n",
              "  </tbody>\n",
              "</table>\n",
              "</div>"
            ],
            "text/plain": [
              "   iteration  visit  item_id  ...  reward  total_reward  fraction_relevant\n",
              "0          0      0      120  ...       1             1           1.000000\n",
              "1          0      1      299  ...       0             1           0.500000\n",
              "2          0      2       49  ...       1             2           0.666667\n",
              "3          0      3       49  ...       1             3           0.750000\n",
              "4          0      4       49  ...       1             4           0.800000\n",
              "\n",
              "[5 rows x 7 columns]"
            ]
          },
          "metadata": {
            "tags": []
          },
          "execution_count": 34
        }
      ]
    },
    {
      "cell_type": "code",
      "metadata": {
        "id": "GWi9OcKlV6BK"
      },
      "source": [
        "ab_1k_results_df.to_csv('/content/drive/MyDrive/AI/Project/output/ab_test_1k.csv')"
      ],
      "execution_count": 35,
      "outputs": []
    },
    {
      "cell_type": "markdown",
      "metadata": {
        "id": "ag_gRyEILR4R"
      },
      "source": [
        "**Test period = 5,000 visits**"
      ]
    },
    {
      "cell_type": "code",
      "metadata": {
        "id": "_iaXc4RgV6GX",
        "colab": {
          "base_uri": "https://localhost:8080/"
        },
        "outputId": "3a9cb294-6027-4378-99bc-43c6f451ebca"
      },
      "source": [
        "n_test_visits = 5000\n",
        "ab_5k_results = ABTestReplayer(n_visits, n_test_visits, reward_history,\n",
        "                               item_col_name, visitor_col_name, reward_col_name,\n",
        "                               n_iterations=n_iterations).replay()\n"
      ],
      "execution_count": 36,
      "outputs": [
        {
          "output_type": "stream",
          "text": [
            "100%|██████████| 20/20 [28:11<00:00, 84.58s/it]\n"
          ],
          "name": "stderr"
        }
      ]
    },
    {
      "cell_type": "code",
      "metadata": {
        "id": "cRnHM1vEV6I-",
        "colab": {
          "base_uri": "https://localhost:8080/",
          "height": 191
        },
        "outputId": "364c1300-017a-4276-d19d-226fcfc37bea"
      },
      "source": [
        "ab_5k_results_df = pd.DataFrame(ab_5k_results)\n",
        "ab_5k_results_df.head()"
      ],
      "execution_count": 37,
      "outputs": [
        {
          "output_type": "execute_result",
          "data": {
            "text/html": [
              "<div>\n",
              "<style scoped>\n",
              "    .dataframe tbody tr th:only-of-type {\n",
              "        vertical-align: middle;\n",
              "    }\n",
              "\n",
              "    .dataframe tbody tr th {\n",
              "        vertical-align: top;\n",
              "    }\n",
              "\n",
              "    .dataframe thead th {\n",
              "        text-align: right;\n",
              "    }\n",
              "</style>\n",
              "<table border=\"1\" class=\"dataframe\">\n",
              "  <thead>\n",
              "    <tr style=\"text-align: right;\">\n",
              "      <th></th>\n",
              "      <th>iteration</th>\n",
              "      <th>visit</th>\n",
              "      <th>item_id</th>\n",
              "      <th>visitor_id</th>\n",
              "      <th>reward</th>\n",
              "      <th>total_reward</th>\n",
              "      <th>fraction_relevant</th>\n",
              "    </tr>\n",
              "  </thead>\n",
              "  <tbody>\n",
              "    <tr>\n",
              "      <th>0</th>\n",
              "      <td>0</td>\n",
              "      <td>0</td>\n",
              "      <td>120</td>\n",
              "      <td>12</td>\n",
              "      <td>1</td>\n",
              "      <td>1</td>\n",
              "      <td>1.000000</td>\n",
              "    </tr>\n",
              "    <tr>\n",
              "      <th>1</th>\n",
              "      <td>0</td>\n",
              "      <td>1</td>\n",
              "      <td>299</td>\n",
              "      <td>783</td>\n",
              "      <td>0</td>\n",
              "      <td>1</td>\n",
              "      <td>0.500000</td>\n",
              "    </tr>\n",
              "    <tr>\n",
              "      <th>2</th>\n",
              "      <td>0</td>\n",
              "      <td>2</td>\n",
              "      <td>49</td>\n",
              "      <td>649</td>\n",
              "      <td>1</td>\n",
              "      <td>2</td>\n",
              "      <td>0.666667</td>\n",
              "    </tr>\n",
              "    <tr>\n",
              "      <th>3</th>\n",
              "      <td>0</td>\n",
              "      <td>3</td>\n",
              "      <td>49</td>\n",
              "      <td>837</td>\n",
              "      <td>1</td>\n",
              "      <td>3</td>\n",
              "      <td>0.750000</td>\n",
              "    </tr>\n",
              "    <tr>\n",
              "      <th>4</th>\n",
              "      <td>0</td>\n",
              "      <td>4</td>\n",
              "      <td>49</td>\n",
              "      <td>483</td>\n",
              "      <td>1</td>\n",
              "      <td>4</td>\n",
              "      <td>0.800000</td>\n",
              "    </tr>\n",
              "  </tbody>\n",
              "</table>\n",
              "</div>"
            ],
            "text/plain": [
              "   iteration  visit  item_id  ...  reward  total_reward  fraction_relevant\n",
              "0          0      0      120  ...       1             1           1.000000\n",
              "1          0      1      299  ...       0             1           0.500000\n",
              "2          0      2       49  ...       1             2           0.666667\n",
              "3          0      3       49  ...       1             3           0.750000\n",
              "4          0      4       49  ...       1             4           0.800000\n",
              "\n",
              "[5 rows x 7 columns]"
            ]
          },
          "metadata": {
            "tags": []
          },
          "execution_count": 37
        }
      ]
    },
    {
      "cell_type": "code",
      "metadata": {
        "id": "Gw636uK9V6LX"
      },
      "source": [
        "ab_5k_results_df.to_csv('/content/drive/MyDrive/AI/Project/output/ab_test_5k.csv')\n"
      ],
      "execution_count": 38,
      "outputs": []
    },
    {
      "cell_type": "markdown",
      "metadata": {
        "id": "OBqrPHmRLbXE"
      },
      "source": [
        "# **$\\epsilon$-Greedy Simulations**"
      ]
    },
    {
      "cell_type": "markdown",
      "metadata": {
        "id": "q-ebsyTWLbSn"
      },
      "source": [
        "**$\\epsilon$ = 0.05**"
      ]
    },
    {
      "cell_type": "code",
      "metadata": {
        "id": "hg1kXWeqV6N7",
        "colab": {
          "base_uri": "https://localhost:8080/"
        },
        "outputId": "0c1f5b04-9647-474f-9bd1-3cbf4d02c7fc"
      },
      "source": [
        "epsilon = 0.05\n",
        "epsilon_05_results = EpsilonGreedyReplayer(epsilon, n_visits, reward_history,\n",
        "                                           item_col_name, visitor_col_name, reward_col_name,\n",
        "                                           n_iterations=n_iterations).replay()"
      ],
      "execution_count": 39,
      "outputs": [
        {
          "output_type": "stream",
          "text": [
            "100%|██████████| 20/20 [26:55<00:00, 80.79s/it]\n"
          ],
          "name": "stderr"
        }
      ]
    },
    {
      "cell_type": "code",
      "metadata": {
        "id": "znJhtgKoWKum",
        "colab": {
          "base_uri": "https://localhost:8080/",
          "height": 191
        },
        "outputId": "5ff9a977-6820-4223-f0c8-0073d5d4a401"
      },
      "source": [
        "epsilon_05_results_df = pd.DataFrame(epsilon_05_results)\n",
        "epsilon_05_results_df.head()"
      ],
      "execution_count": 40,
      "outputs": [
        {
          "output_type": "execute_result",
          "data": {
            "text/html": [
              "<div>\n",
              "<style scoped>\n",
              "    .dataframe tbody tr th:only-of-type {\n",
              "        vertical-align: middle;\n",
              "    }\n",
              "\n",
              "    .dataframe tbody tr th {\n",
              "        vertical-align: top;\n",
              "    }\n",
              "\n",
              "    .dataframe thead th {\n",
              "        text-align: right;\n",
              "    }\n",
              "</style>\n",
              "<table border=\"1\" class=\"dataframe\">\n",
              "  <thead>\n",
              "    <tr style=\"text-align: right;\">\n",
              "      <th></th>\n",
              "      <th>iteration</th>\n",
              "      <th>visit</th>\n",
              "      <th>item_id</th>\n",
              "      <th>visitor_id</th>\n",
              "      <th>reward</th>\n",
              "      <th>total_reward</th>\n",
              "      <th>fraction_relevant</th>\n",
              "    </tr>\n",
              "  </thead>\n",
              "  <tbody>\n",
              "    <tr>\n",
              "      <th>0</th>\n",
              "      <td>0</td>\n",
              "      <td>0</td>\n",
              "      <td>0</td>\n",
              "      <td>12</td>\n",
              "      <td>0</td>\n",
              "      <td>0</td>\n",
              "      <td>0.0</td>\n",
              "    </tr>\n",
              "    <tr>\n",
              "      <th>1</th>\n",
              "      <td>0</td>\n",
              "      <td>1</td>\n",
              "      <td>257</td>\n",
              "      <td>58</td>\n",
              "      <td>0</td>\n",
              "      <td>0</td>\n",
              "      <td>0.0</td>\n",
              "    </tr>\n",
              "    <tr>\n",
              "      <th>2</th>\n",
              "      <td>0</td>\n",
              "      <td>2</td>\n",
              "      <td>0</td>\n",
              "      <td>222</td>\n",
              "      <td>0</td>\n",
              "      <td>0</td>\n",
              "      <td>0.0</td>\n",
              "    </tr>\n",
              "    <tr>\n",
              "      <th>3</th>\n",
              "      <td>0</td>\n",
              "      <td>3</td>\n",
              "      <td>0</td>\n",
              "      <td>830</td>\n",
              "      <td>0</td>\n",
              "      <td>0</td>\n",
              "      <td>0.0</td>\n",
              "    </tr>\n",
              "    <tr>\n",
              "      <th>4</th>\n",
              "      <td>0</td>\n",
              "      <td>4</td>\n",
              "      <td>0</td>\n",
              "      <td>313</td>\n",
              "      <td>1</td>\n",
              "      <td>1</td>\n",
              "      <td>0.2</td>\n",
              "    </tr>\n",
              "  </tbody>\n",
              "</table>\n",
              "</div>"
            ],
            "text/plain": [
              "   iteration  visit  item_id  ...  reward  total_reward  fraction_relevant\n",
              "0          0      0        0  ...       0             0                0.0\n",
              "1          0      1      257  ...       0             0                0.0\n",
              "2          0      2        0  ...       0             0                0.0\n",
              "3          0      3        0  ...       0             0                0.0\n",
              "4          0      4        0  ...       1             1                0.2\n",
              "\n",
              "[5 rows x 7 columns]"
            ]
          },
          "metadata": {
            "tags": []
          },
          "execution_count": 40
        }
      ]
    },
    {
      "cell_type": "code",
      "metadata": {
        "id": "22yRecvWWKyV"
      },
      "source": [
        "epsilon_05_results_df.to_csv('/content/drive/MyDrive/AI/Project/output/epsilon_greedy_05.csv')\n"
      ],
      "execution_count": 41,
      "outputs": []
    },
    {
      "cell_type": "markdown",
      "metadata": {
        "id": "JlzFGp9CLpNv"
      },
      "source": [
        "**$\\epsilon$ = 0.10**"
      ]
    },
    {
      "cell_type": "code",
      "metadata": {
        "id": "WUbZig3HWK1c",
        "colab": {
          "base_uri": "https://localhost:8080/"
        },
        "outputId": "390de28a-e7bb-4bb4-8374-816bb2bd9d1c"
      },
      "source": [
        "epsilon = 0.10\n",
        "epsilon_10_results = EpsilonGreedyReplayer(epsilon, n_visits, reward_history,\n",
        "                                           item_col_name, visitor_col_name, reward_col_name,\n",
        "                                           n_iterations=n_iterations).replay()"
      ],
      "execution_count": 42,
      "outputs": [
        {
          "output_type": "stream",
          "text": [
            "100%|██████████| 20/20 [27:10<00:00, 81.53s/it]\n"
          ],
          "name": "stderr"
        }
      ]
    },
    {
      "cell_type": "code",
      "metadata": {
        "id": "Kqhrf0GBWK4G",
        "colab": {
          "base_uri": "https://localhost:8080/",
          "height": 191
        },
        "outputId": "eb3f6790-e967-472a-a34a-7eda3fb50620"
      },
      "source": [
        "epsilon_10_results_df = pd.DataFrame(epsilon_10_results)\n",
        "epsilon_10_results_df.head()"
      ],
      "execution_count": 43,
      "outputs": [
        {
          "output_type": "execute_result",
          "data": {
            "text/html": [
              "<div>\n",
              "<style scoped>\n",
              "    .dataframe tbody tr th:only-of-type {\n",
              "        vertical-align: middle;\n",
              "    }\n",
              "\n",
              "    .dataframe tbody tr th {\n",
              "        vertical-align: top;\n",
              "    }\n",
              "\n",
              "    .dataframe thead th {\n",
              "        text-align: right;\n",
              "    }\n",
              "</style>\n",
              "<table border=\"1\" class=\"dataframe\">\n",
              "  <thead>\n",
              "    <tr style=\"text-align: right;\">\n",
              "      <th></th>\n",
              "      <th>iteration</th>\n",
              "      <th>visit</th>\n",
              "      <th>item_id</th>\n",
              "      <th>visitor_id</th>\n",
              "      <th>reward</th>\n",
              "      <th>total_reward</th>\n",
              "      <th>fraction_relevant</th>\n",
              "    </tr>\n",
              "  </thead>\n",
              "  <tbody>\n",
              "    <tr>\n",
              "      <th>0</th>\n",
              "      <td>0</td>\n",
              "      <td>0</td>\n",
              "      <td>0</td>\n",
              "      <td>12</td>\n",
              "      <td>0</td>\n",
              "      <td>0</td>\n",
              "      <td>0.0</td>\n",
              "    </tr>\n",
              "    <tr>\n",
              "      <th>1</th>\n",
              "      <td>0</td>\n",
              "      <td>1</td>\n",
              "      <td>257</td>\n",
              "      <td>58</td>\n",
              "      <td>0</td>\n",
              "      <td>0</td>\n",
              "      <td>0.0</td>\n",
              "    </tr>\n",
              "    <tr>\n",
              "      <th>2</th>\n",
              "      <td>0</td>\n",
              "      <td>2</td>\n",
              "      <td>0</td>\n",
              "      <td>222</td>\n",
              "      <td>0</td>\n",
              "      <td>0</td>\n",
              "      <td>0.0</td>\n",
              "    </tr>\n",
              "    <tr>\n",
              "      <th>3</th>\n",
              "      <td>0</td>\n",
              "      <td>3</td>\n",
              "      <td>0</td>\n",
              "      <td>830</td>\n",
              "      <td>0</td>\n",
              "      <td>0</td>\n",
              "      <td>0.0</td>\n",
              "    </tr>\n",
              "    <tr>\n",
              "      <th>4</th>\n",
              "      <td>0</td>\n",
              "      <td>4</td>\n",
              "      <td>0</td>\n",
              "      <td>313</td>\n",
              "      <td>1</td>\n",
              "      <td>1</td>\n",
              "      <td>0.2</td>\n",
              "    </tr>\n",
              "  </tbody>\n",
              "</table>\n",
              "</div>"
            ],
            "text/plain": [
              "   iteration  visit  item_id  ...  reward  total_reward  fraction_relevant\n",
              "0          0      0        0  ...       0             0                0.0\n",
              "1          0      1      257  ...       0             0                0.0\n",
              "2          0      2        0  ...       0             0                0.0\n",
              "3          0      3        0  ...       0             0                0.0\n",
              "4          0      4        0  ...       1             1                0.2\n",
              "\n",
              "[5 rows x 7 columns]"
            ]
          },
          "metadata": {
            "tags": []
          },
          "execution_count": 43
        }
      ]
    },
    {
      "cell_type": "code",
      "metadata": {
        "id": "XL2U3f5TWK6U"
      },
      "source": [
        "epsilon_10_results_df.to_csv('/content/drive/MyDrive/AI/Project/output/epsilon_greedy_10.csv')\n"
      ],
      "execution_count": 44,
      "outputs": []
    },
    {
      "cell_type": "markdown",
      "metadata": {
        "id": "4vLvERs9LuqQ"
      },
      "source": [
        "# **Thompson Sampling Simulations**"
      ]
    },
    {
      "cell_type": "code",
      "metadata": {
        "id": "Dy7_3q-CWK8u",
        "colab": {
          "base_uri": "https://localhost:8080/"
        },
        "outputId": "d85be3be-4efd-436d-a4f6-9f7b27059c92"
      },
      "source": [
        "thompson_results = ThompsonSamplingReplayer(n_visits, reward_history,\n",
        "                                            item_col_name, visitor_col_name, reward_col_name,\n",
        "                                            n_iterations=n_iterations).replay()"
      ],
      "execution_count": 45,
      "outputs": [
        {
          "output_type": "stream",
          "text": [
            "100%|██████████| 20/20 [27:11<00:00, 81.56s/it]\n"
          ],
          "name": "stderr"
        }
      ]
    },
    {
      "cell_type": "code",
      "metadata": {
        "id": "6QCv6Y-XWYnX",
        "colab": {
          "base_uri": "https://localhost:8080/",
          "height": 191
        },
        "outputId": "e6386712-2dc2-4127-d9b4-40933dc6e02e"
      },
      "source": [
        "thompson_results_df = pd.DataFrame(thompson_results)\n",
        "thompson_results_df.head()"
      ],
      "execution_count": 46,
      "outputs": [
        {
          "output_type": "execute_result",
          "data": {
            "text/html": [
              "<div>\n",
              "<style scoped>\n",
              "    .dataframe tbody tr th:only-of-type {\n",
              "        vertical-align: middle;\n",
              "    }\n",
              "\n",
              "    .dataframe tbody tr th {\n",
              "        vertical-align: top;\n",
              "    }\n",
              "\n",
              "    .dataframe thead th {\n",
              "        text-align: right;\n",
              "    }\n",
              "</style>\n",
              "<table border=\"1\" class=\"dataframe\">\n",
              "  <thead>\n",
              "    <tr style=\"text-align: right;\">\n",
              "      <th></th>\n",
              "      <th>iteration</th>\n",
              "      <th>visit</th>\n",
              "      <th>item_id</th>\n",
              "      <th>visitor_id</th>\n",
              "      <th>reward</th>\n",
              "      <th>total_reward</th>\n",
              "      <th>fraction_relevant</th>\n",
              "    </tr>\n",
              "  </thead>\n",
              "  <tbody>\n",
              "    <tr>\n",
              "      <th>0</th>\n",
              "      <td>0</td>\n",
              "      <td>0</td>\n",
              "      <td>299</td>\n",
              "      <td>12</td>\n",
              "      <td>0</td>\n",
              "      <td>0</td>\n",
              "      <td>0.000000</td>\n",
              "    </tr>\n",
              "    <tr>\n",
              "      <th>1</th>\n",
              "      <td>0</td>\n",
              "      <td>1</td>\n",
              "      <td>49</td>\n",
              "      <td>333</td>\n",
              "      <td>1</td>\n",
              "      <td>1</td>\n",
              "      <td>0.500000</td>\n",
              "    </tr>\n",
              "    <tr>\n",
              "      <th>2</th>\n",
              "      <td>0</td>\n",
              "      <td>2</td>\n",
              "      <td>49</td>\n",
              "      <td>693</td>\n",
              "      <td>1</td>\n",
              "      <td>2</td>\n",
              "      <td>0.666667</td>\n",
              "    </tr>\n",
              "    <tr>\n",
              "      <th>3</th>\n",
              "      <td>0</td>\n",
              "      <td>3</td>\n",
              "      <td>49</td>\n",
              "      <td>479</td>\n",
              "      <td>0</td>\n",
              "      <td>2</td>\n",
              "      <td>0.500000</td>\n",
              "    </tr>\n",
              "    <tr>\n",
              "      <th>4</th>\n",
              "      <td>0</td>\n",
              "      <td>4</td>\n",
              "      <td>120</td>\n",
              "      <td>525</td>\n",
              "      <td>0</td>\n",
              "      <td>2</td>\n",
              "      <td>0.400000</td>\n",
              "    </tr>\n",
              "  </tbody>\n",
              "</table>\n",
              "</div>"
            ],
            "text/plain": [
              "   iteration  visit  item_id  ...  reward  total_reward  fraction_relevant\n",
              "0          0      0      299  ...       0             0           0.000000\n",
              "1          0      1       49  ...       1             1           0.500000\n",
              "2          0      2       49  ...       1             2           0.666667\n",
              "3          0      3       49  ...       0             2           0.500000\n",
              "4          0      4      120  ...       0             2           0.400000\n",
              "\n",
              "[5 rows x 7 columns]"
            ]
          },
          "metadata": {
            "tags": []
          },
          "execution_count": 46
        }
      ]
    },
    {
      "cell_type": "code",
      "metadata": {
        "id": "KuuHoLfMWYp4"
      },
      "source": [
        "thompson_results_df.to_csv('/content/drive/MyDrive/AI/Project/output/thompson_sampling.csv')\n"
      ],
      "execution_count": 47,
      "outputs": []
    },
    {
      "cell_type": "markdown",
      "metadata": {
        "id": "QSvk8z32IvOK"
      },
      "source": [
        "#**Compare the results**"
      ]
    },
    {
      "cell_type": "markdown",
      "metadata": {
        "id": "V7EYiJi3Ix22"
      },
      "source": [
        "# **Average the results across all runs**"
      ]
    },
    {
      "cell_type": "code",
      "metadata": {
        "id": "IL_Gyl66WYsh"
      },
      "source": [
        "ab_1k_avg_results_df = ab_1k_results_df.groupby('visit', as_index=False).mean()\n",
        "\n",
        "ab_5k_avg_results_df = ab_5k_results_df.groupby('visit', as_index=False).mean()\n",
        "\n",
        "epsilon_05_avg_results_df = epsilon_05_results_df.groupby('visit', as_index=False).mean()\n",
        "\n",
        "epsilon_10_avg_results_df = epsilon_10_results_df.groupby('visit', as_index=False).mean()\n",
        "\n",
        "thompson_avg_results_df = thompson_results_df.groupby('visit', as_index=False).mean()"
      ],
      "execution_count": 48,
      "outputs": []
    },
    {
      "cell_type": "markdown",
      "metadata": {
        "id": "4FsWWU0eJC0b"
      },
      "source": [
        "# **Plot the output**"
      ]
    },
    {
      "cell_type": "code",
      "metadata": {
        "id": "ouUrBBxAWYvU"
      },
      "source": [
        "%matplotlib inline\n",
        "from matplotlib import pyplot as plt\n",
        "import seaborn as sns"
      ],
      "execution_count": 49,
      "outputs": []
    },
    {
      "cell_type": "code",
      "metadata": {
        "id": "Db8TdrQAWYxs"
      },
      "source": [
        "sns.set(font_scale=2.5)\n"
      ],
      "execution_count": 50,
      "outputs": []
    },
    {
      "cell_type": "code",
      "metadata": {
        "id": "wnHEu5pWWlV3",
        "colab": {
          "base_uri": "https://localhost:8080/",
          "height": 85
        },
        "outputId": "611f2ff9-cb52-4a46-d3c1-190e231fe4bc"
      },
      "source": [
        "# using a color-blind friendly palette with 10 colors\n",
        "color_blind_palette_10 = ['#cfcfcf', '#ffbc79', '#a2c8ec', '#898989', '#c85200',\n",
        "                          '#5f9ed1', '#595959', '#ababab', '#ff800e', '#006ba4']\n",
        "\n",
        "sns.palplot(color_blind_palette_10)\n"
      ],
      "execution_count": 51,
      "outputs": [
        {
          "output_type": "display_data",
          "data": {
            "image/png": "[encoded data removed]",
            "text/plain": [
              "<Figure size 720x72 with 1 Axes>"
            ]
          },
          "metadata": {
            "tags": []
          }
        }
      ]
    },
    {
      "cell_type": "code",
      "metadata": {
        "id": "ase4yebDWlYj",
        "colab": {
          "base_uri": "https://localhost:8080/",
          "height": 686
        },
        "outputId": "9293cc12-db0a-416b-9456-a58c48559e80"
      },
      "source": [
        "fig, ax = plt.subplots(figsize=(12,10))\n",
        "\n",
        "for (avg_results_df, style) in [(ab_1k_avg_results_df, 'r-'),\n",
        "                                (ab_5k_avg_results_df, 'r--'),\n",
        "                                (epsilon_05_avg_results_df, 'b-'),\n",
        "                                (epsilon_10_avg_results_df, 'b--'),\n",
        "                                (thompson_avg_results_df, 'tab:brown')]:\n",
        "    \n",
        "    ax.plot(avg_results_df.visit, avg_results_df.fraction_relevant, style, linewidth=3.5)\n",
        "\n",
        "# add a line for the optimal value -- 0.5575 for Star Wars (from exploration noteboook)\n",
        "ax.axhline(y=0.5575, color='k', linestyle=':', linewidth=2.5)\n",
        "\n",
        "ax.set_title('Percentage of Liked Recommendations')\n",
        "ax.set_xlabel('Recommendation #')\n",
        "ax.set_ylabel('% of Recs Liked')\n",
        "\n",
        "ax.set_xticks(range(0,22000,5000))\n",
        "ax.set_ylim(0.2, 0.6)\n",
        "ax.set_yticks(np.arange(0.2, 0.7, 0.1))\n",
        "\n",
        "# rescale the y-axis tick labels to show them as a percentage\n",
        "ax.set_yticklabels((ax.get_yticks()*100).astype(int))\n",
        "\n",
        "ax.legend(['A/B Test (1k Recs)',\n",
        "           'A/B Test (5k Recs)',\n",
        "           '$\\epsilon$ = 0.05',\n",
        "           '$\\epsilon$ = 0.10',\n",
        "           'Thompson Sampling',\n",
        "           'Optimal (Star Wars)'\n",
        "          ],\n",
        "          loc='lower right'\n",
        "         )\n",
        "\n",
        "plt.tight_layout()\n",
        "plt.show()"
      ],
      "execution_count": 52,
      "outputs": [
        {
          "output_type": "display_data",
          "data": {
            "image/png": "[encoded data removed]",
            "text/plain": [
              "<Figure size 864x720 with 1 Axes>"
            ]
          },
          "metadata": {
            "tags": []
          }
        }
      ]
    },
    {
      "cell_type": "markdown",
      "metadata": {
        "id": "etLBiiNMC-AQ"
      },
      "source": [
        "# **Result**"
      ]
    },
    {
      "cell_type": "code",
      "metadata": {
        "id": "BaTmZt5hWlb2"
      },
      "source": [
        "sns.set(font_scale=2.5)"
      ],
      "execution_count": 53,
      "outputs": []
    },
    {
      "cell_type": "code",
      "metadata": {
        "id": "L6MWZuyCDGBN",
        "colab": {
          "base_uri": "https://localhost:8080/",
          "height": 0
        },
        "outputId": "a96a1ed9-0bc3-4832-ace4-a583df330b3d"
      },
      "source": [
        "# using a color-blind friendly palette with 10 colors\n",
        "color_blind_palette_10 = ['#cfcfcf', '#ffbc79', '#a2c8ec', '#898989', '#c85200',\n",
        "                          '#5f9ed1', '#595959', '#ababab', '#ff800e', '#006ba4']\n",
        "\n",
        "sns.palplot(color_blind_palette_10)"
      ],
      "execution_count": 54,
      "outputs": [
        {
          "output_type": "display_data",
          "data": {
            "image/png": "[encoded data removed]",
            "text/plain": [
              "<Figure size 720x72 with 1 Axes>"
            ]
          },
          "metadata": {
            "tags": []
          }
        }
      ]
    },
    {
      "cell_type": "markdown",
      "metadata": {
        "id": "AOlRlGz_MIyZ"
      },
      "source": [
        "# **Movie info**"
      ]
    },
    {
      "cell_type": "code",
      "metadata": {
        "id": "qZ0332jADGEM"
      },
      "source": [
        "top_n_movie_ratings = pd.read_csv('/content/drive/MyDrive/AI/Project/data/top-n-movies_user-ratings.csv').drop(columns='Unnamed: 0')"
      ],
      "execution_count": 55,
      "outputs": []
    },
    {
      "cell_type": "code",
      "metadata": {
        "id": "pseCjcw5DGG7",
        "colab": {
          "base_uri": "https://localhost:8080/",
          "height": 0
        },
        "outputId": "84b6bdab-c832-4f2b-8c0d-a8bd7d0a51e2"
      },
      "source": [
        "top_n_movie_ratings.head()"
      ],
      "execution_count": 56,
      "outputs": [
        {
          "output_type": "execute_result",
          "data": {
            "text/html": [
              "<div>\n",
              "<style scoped>\n",
              "    .dataframe tbody tr th:only-of-type {\n",
              "        vertical-align: middle;\n",
              "    }\n",
              "\n",
              "    .dataframe tbody tr th {\n",
              "        vertical-align: top;\n",
              "    }\n",
              "\n",
              "    .dataframe thead th {\n",
              "        text-align: right;\n",
              "    }\n",
              "</style>\n",
              "<table border=\"1\" class=\"dataframe\">\n",
              "  <thead>\n",
              "    <tr style=\"text-align: right;\">\n",
              "      <th></th>\n",
              "      <th>user_id</th>\n",
              "      <th>movie_id</th>\n",
              "      <th>rating</th>\n",
              "      <th>movie_title</th>\n",
              "    </tr>\n",
              "  </thead>\n",
              "  <tbody>\n",
              "    <tr>\n",
              "      <th>0</th>\n",
              "      <td>307</td>\n",
              "      <td>0</td>\n",
              "      <td>4</td>\n",
              "      <td>Toy Story</td>\n",
              "    </tr>\n",
              "    <tr>\n",
              "      <th>1</th>\n",
              "      <td>250</td>\n",
              "      <td>99</td>\n",
              "      <td>4</td>\n",
              "      <td>Fargo</td>\n",
              "    </tr>\n",
              "    <tr>\n",
              "      <th>2</th>\n",
              "      <td>24</td>\n",
              "      <td>180</td>\n",
              "      <td>5</td>\n",
              "      <td>Return of the Jedi</td>\n",
              "    </tr>\n",
              "    <tr>\n",
              "      <th>3</th>\n",
              "      <td>19</td>\n",
              "      <td>287</td>\n",
              "      <td>1</td>\n",
              "      <td>Scream</td>\n",
              "    </tr>\n",
              "    <tr>\n",
              "      <th>4</th>\n",
              "      <td>31</td>\n",
              "      <td>293</td>\n",
              "      <td>3</td>\n",
              "      <td>Liar Liar</td>\n",
              "    </tr>\n",
              "  </tbody>\n",
              "</table>\n",
              "</div>"
            ],
            "text/plain": [
              "   user_id  movie_id  rating         movie_title\n",
              "0      307         0       4           Toy Story\n",
              "1      250        99       4               Fargo\n",
              "2       24       180       5  Return of the Jedi\n",
              "3       19       287       1              Scream\n",
              "4       31       293       3           Liar Liar"
            ]
          },
          "metadata": {
            "tags": []
          },
          "execution_count": 56
        }
      ]
    },
    {
      "cell_type": "code",
      "metadata": {
        "id": "INaYXfP5DGKU",
        "colab": {
          "base_uri": "https://localhost:8080/"
        },
        "outputId": "311ce414-1614-4bcf-e8da-17b364cd5dba"
      },
      "source": [
        "movie_titles = top_n_movie_ratings.groupby(['movie_id','movie_title']).size().to_frame() \\\n",
        "                                    .reset_index('movie_title').movie_title \\\n",
        "                                    .to_dict()\n",
        "movie_titles"
      ],
      "execution_count": 57,
      "outputs": [
        {
          "output_type": "execute_result",
          "data": {
            "text/plain": [
              "{0: 'Toy Story',\n",
              " 49: 'Star Wars',\n",
              " 99: 'Fargo',\n",
              " 120: 'Independence Day',\n",
              " 180: 'Return of the Jedi',\n",
              " 257: 'Contact',\n",
              " 285: 'English Patient, The',\n",
              " 287: 'Scream',\n",
              " 293: 'Liar Liar',\n",
              " 299: 'Air Force One'}"
            ]
          },
          "metadata": {
            "tags": []
          },
          "execution_count": 57
        }
      ]
    },
    {
      "cell_type": "code",
      "metadata": {
        "id": "OjuEAT2xDGNW",
        "colab": {
          "base_uri": "https://localhost:8080/"
        },
        "outputId": "8da99fa5-3b28-468d-9643-ddbbc4b75b46"
      },
      "source": [
        "color_map = dict(zip(top_n_movie_ratings.movie_title.sort_values().unique().tolist(), color_blind_palette_10))\n",
        "color_map"
      ],
      "execution_count": 58,
      "outputs": [
        {
          "output_type": "execute_result",
          "data": {
            "text/plain": [
              "{'Air Force One': '#cfcfcf',\n",
              " 'Contact': '#ffbc79',\n",
              " 'English Patient, The': '#a2c8ec',\n",
              " 'Fargo': '#898989',\n",
              " 'Independence Day': '#c85200',\n",
              " 'Liar Liar': '#5f9ed1',\n",
              " 'Return of the Jedi': '#595959',\n",
              " 'Scream': '#ababab',\n",
              " 'Star Wars': '#ff800e',\n",
              " 'Toy Story': '#006ba4'}"
            ]
          },
          "metadata": {
            "tags": []
          },
          "execution_count": 58
        }
      ]
    },
    {
      "cell_type": "markdown",
      "metadata": {
        "id": "UyHe2j3kMP1X"
      },
      "source": [
        "# **Load the results from the simulations¶**"
      ]
    },
    {
      "cell_type": "markdown",
      "metadata": {
        "id": "oOIPa1aKMR5u"
      },
      "source": [
        "# **A/B Test Output**"
      ]
    },
    {
      "cell_type": "code",
      "metadata": {
        "id": "5uxIoDmqDGPk"
      },
      "source": [
        "ab_test_1k = pd.read_csv('/content/drive/MyDrive/AI/Project/output/ab_test_1k.csv').drop(columns='Unnamed: 0')"
      ],
      "execution_count": 59,
      "outputs": []
    },
    {
      "cell_type": "code",
      "metadata": {
        "id": "PUoKj6MgDfQj",
        "colab": {
          "base_uri": "https://localhost:8080/",
          "height": 191
        },
        "outputId": "40c8ab65-946d-4645-bf33-925e7cf02a52"
      },
      "source": [
        "ab_test_1k.head()"
      ],
      "execution_count": 60,
      "outputs": [
        {
          "output_type": "execute_result",
          "data": {
            "text/html": [
              "<div>\n",
              "<style scoped>\n",
              "    .dataframe tbody tr th:only-of-type {\n",
              "        vertical-align: middle;\n",
              "    }\n",
              "\n",
              "    .dataframe tbody tr th {\n",
              "        vertical-align: top;\n",
              "    }\n",
              "\n",
              "    .dataframe thead th {\n",
              "        text-align: right;\n",
              "    }\n",
              "</style>\n",
              "<table border=\"1\" class=\"dataframe\">\n",
              "  <thead>\n",
              "    <tr style=\"text-align: right;\">\n",
              "      <th></th>\n",
              "      <th>iteration</th>\n",
              "      <th>visit</th>\n",
              "      <th>item_id</th>\n",
              "      <th>visitor_id</th>\n",
              "      <th>reward</th>\n",
              "      <th>total_reward</th>\n",
              "      <th>fraction_relevant</th>\n",
              "    </tr>\n",
              "  </thead>\n",
              "  <tbody>\n",
              "    <tr>\n",
              "      <th>0</th>\n",
              "      <td>0</td>\n",
              "      <td>0</td>\n",
              "      <td>120</td>\n",
              "      <td>12</td>\n",
              "      <td>1</td>\n",
              "      <td>1</td>\n",
              "      <td>1.000000</td>\n",
              "    </tr>\n",
              "    <tr>\n",
              "      <th>1</th>\n",
              "      <td>0</td>\n",
              "      <td>1</td>\n",
              "      <td>299</td>\n",
              "      <td>783</td>\n",
              "      <td>0</td>\n",
              "      <td>1</td>\n",
              "      <td>0.500000</td>\n",
              "    </tr>\n",
              "    <tr>\n",
              "      <th>2</th>\n",
              "      <td>0</td>\n",
              "      <td>2</td>\n",
              "      <td>49</td>\n",
              "      <td>649</td>\n",
              "      <td>1</td>\n",
              "      <td>2</td>\n",
              "      <td>0.666667</td>\n",
              "    </tr>\n",
              "    <tr>\n",
              "      <th>3</th>\n",
              "      <td>0</td>\n",
              "      <td>3</td>\n",
              "      <td>49</td>\n",
              "      <td>837</td>\n",
              "      <td>1</td>\n",
              "      <td>3</td>\n",
              "      <td>0.750000</td>\n",
              "    </tr>\n",
              "    <tr>\n",
              "      <th>4</th>\n",
              "      <td>0</td>\n",
              "      <td>4</td>\n",
              "      <td>49</td>\n",
              "      <td>483</td>\n",
              "      <td>1</td>\n",
              "      <td>4</td>\n",
              "      <td>0.800000</td>\n",
              "    </tr>\n",
              "  </tbody>\n",
              "</table>\n",
              "</div>"
            ],
            "text/plain": [
              "   iteration  visit  item_id  ...  reward  total_reward  fraction_relevant\n",
              "0          0      0      120  ...       1             1           1.000000\n",
              "1          0      1      299  ...       0             1           0.500000\n",
              "2          0      2       49  ...       1             2           0.666667\n",
              "3          0      3       49  ...       1             3           0.750000\n",
              "4          0      4       49  ...       1             4           0.800000\n",
              "\n",
              "[5 rows x 7 columns]"
            ]
          },
          "metadata": {
            "tags": []
          },
          "execution_count": 60
        }
      ]
    },
    {
      "cell_type": "code",
      "metadata": {
        "id": "1WoDEXfhDfTY"
      },
      "source": [
        "ab_test_5k = pd.read_csv('/content/drive/MyDrive/AI/Project/output/ab_test_5k.csv').drop(columns='Unnamed: 0')"
      ],
      "execution_count": 61,
      "outputs": []
    },
    {
      "cell_type": "code",
      "metadata": {
        "id": "o-ctz0DeDfXt",
        "colab": {
          "base_uri": "https://localhost:8080/",
          "height": 191
        },
        "outputId": "c9705477-587b-4325-a9a0-c53d82c3b2be"
      },
      "source": [
        "ab_test_5k.head()"
      ],
      "execution_count": 62,
      "outputs": [
        {
          "output_type": "execute_result",
          "data": {
            "text/html": [
              "<div>\n",
              "<style scoped>\n",
              "    .dataframe tbody tr th:only-of-type {\n",
              "        vertical-align: middle;\n",
              "    }\n",
              "\n",
              "    .dataframe tbody tr th {\n",
              "        vertical-align: top;\n",
              "    }\n",
              "\n",
              "    .dataframe thead th {\n",
              "        text-align: right;\n",
              "    }\n",
              "</style>\n",
              "<table border=\"1\" class=\"dataframe\">\n",
              "  <thead>\n",
              "    <tr style=\"text-align: right;\">\n",
              "      <th></th>\n",
              "      <th>iteration</th>\n",
              "      <th>visit</th>\n",
              "      <th>item_id</th>\n",
              "      <th>visitor_id</th>\n",
              "      <th>reward</th>\n",
              "      <th>total_reward</th>\n",
              "      <th>fraction_relevant</th>\n",
              "    </tr>\n",
              "  </thead>\n",
              "  <tbody>\n",
              "    <tr>\n",
              "      <th>0</th>\n",
              "      <td>0</td>\n",
              "      <td>0</td>\n",
              "      <td>120</td>\n",
              "      <td>12</td>\n",
              "      <td>1</td>\n",
              "      <td>1</td>\n",
              "      <td>1.000000</td>\n",
              "    </tr>\n",
              "    <tr>\n",
              "      <th>1</th>\n",
              "      <td>0</td>\n",
              "      <td>1</td>\n",
              "      <td>299</td>\n",
              "      <td>783</td>\n",
              "      <td>0</td>\n",
              "      <td>1</td>\n",
              "      <td>0.500000</td>\n",
              "    </tr>\n",
              "    <tr>\n",
              "      <th>2</th>\n",
              "      <td>0</td>\n",
              "      <td>2</td>\n",
              "      <td>49</td>\n",
              "      <td>649</td>\n",
              "      <td>1</td>\n",
              "      <td>2</td>\n",
              "      <td>0.666667</td>\n",
              "    </tr>\n",
              "    <tr>\n",
              "      <th>3</th>\n",
              "      <td>0</td>\n",
              "      <td>3</td>\n",
              "      <td>49</td>\n",
              "      <td>837</td>\n",
              "      <td>1</td>\n",
              "      <td>3</td>\n",
              "      <td>0.750000</td>\n",
              "    </tr>\n",
              "    <tr>\n",
              "      <th>4</th>\n",
              "      <td>0</td>\n",
              "      <td>4</td>\n",
              "      <td>49</td>\n",
              "      <td>483</td>\n",
              "      <td>1</td>\n",
              "      <td>4</td>\n",
              "      <td>0.800000</td>\n",
              "    </tr>\n",
              "  </tbody>\n",
              "</table>\n",
              "</div>"
            ],
            "text/plain": [
              "   iteration  visit  item_id  ...  reward  total_reward  fraction_relevant\n",
              "0          0      0      120  ...       1             1           1.000000\n",
              "1          0      1      299  ...       0             1           0.500000\n",
              "2          0      2       49  ...       1             2           0.666667\n",
              "3          0      3       49  ...       1             3           0.750000\n",
              "4          0      4       49  ...       1             4           0.800000\n",
              "\n",
              "[5 rows x 7 columns]"
            ]
          },
          "metadata": {
            "tags": []
          },
          "execution_count": 62
        }
      ]
    },
    {
      "cell_type": "markdown",
      "metadata": {
        "id": "L4oeL2UuMdc2"
      },
      "source": [
        "# **$\\epsilon$-Greedy Output**"
      ]
    },
    {
      "cell_type": "code",
      "metadata": {
        "id": "gym-TmjbDfZp"
      },
      "source": [
        "eps_greedy_05 = pd.read_csv('/content/drive/MyDrive/AI/Project/output/epsilon_greedy_05.csv').drop(columns='Unnamed: 0')"
      ],
      "execution_count": 63,
      "outputs": []
    },
    {
      "cell_type": "code",
      "metadata": {
        "id": "3FoXGkHEDfch",
        "colab": {
          "base_uri": "https://localhost:8080/",
          "height": 191
        },
        "outputId": "238ab18f-8d3e-4497-b79b-ba7b139e9259"
      },
      "source": [
        "eps_greedy_05.head()"
      ],
      "execution_count": 64,
      "outputs": [
        {
          "output_type": "execute_result",
          "data": {
            "text/html": [
              "<div>\n",
              "<style scoped>\n",
              "    .dataframe tbody tr th:only-of-type {\n",
              "        vertical-align: middle;\n",
              "    }\n",
              "\n",
              "    .dataframe tbody tr th {\n",
              "        vertical-align: top;\n",
              "    }\n",
              "\n",
              "    .dataframe thead th {\n",
              "        text-align: right;\n",
              "    }\n",
              "</style>\n",
              "<table border=\"1\" class=\"dataframe\">\n",
              "  <thead>\n",
              "    <tr style=\"text-align: right;\">\n",
              "      <th></th>\n",
              "      <th>iteration</th>\n",
              "      <th>visit</th>\n",
              "      <th>item_id</th>\n",
              "      <th>visitor_id</th>\n",
              "      <th>reward</th>\n",
              "      <th>total_reward</th>\n",
              "      <th>fraction_relevant</th>\n",
              "    </tr>\n",
              "  </thead>\n",
              "  <tbody>\n",
              "    <tr>\n",
              "      <th>0</th>\n",
              "      <td>0</td>\n",
              "      <td>0</td>\n",
              "      <td>0</td>\n",
              "      <td>12</td>\n",
              "      <td>0</td>\n",
              "      <td>0</td>\n",
              "      <td>0.0</td>\n",
              "    </tr>\n",
              "    <tr>\n",
              "      <th>1</th>\n",
              "      <td>0</td>\n",
              "      <td>1</td>\n",
              "      <td>257</td>\n",
              "      <td>58</td>\n",
              "      <td>0</td>\n",
              "      <td>0</td>\n",
              "      <td>0.0</td>\n",
              "    </tr>\n",
              "    <tr>\n",
              "      <th>2</th>\n",
              "      <td>0</td>\n",
              "      <td>2</td>\n",
              "      <td>0</td>\n",
              "      <td>222</td>\n",
              "      <td>0</td>\n",
              "      <td>0</td>\n",
              "      <td>0.0</td>\n",
              "    </tr>\n",
              "    <tr>\n",
              "      <th>3</th>\n",
              "      <td>0</td>\n",
              "      <td>3</td>\n",
              "      <td>0</td>\n",
              "      <td>830</td>\n",
              "      <td>0</td>\n",
              "      <td>0</td>\n",
              "      <td>0.0</td>\n",
              "    </tr>\n",
              "    <tr>\n",
              "      <th>4</th>\n",
              "      <td>0</td>\n",
              "      <td>4</td>\n",
              "      <td>0</td>\n",
              "      <td>313</td>\n",
              "      <td>1</td>\n",
              "      <td>1</td>\n",
              "      <td>0.2</td>\n",
              "    </tr>\n",
              "  </tbody>\n",
              "</table>\n",
              "</div>"
            ],
            "text/plain": [
              "   iteration  visit  item_id  ...  reward  total_reward  fraction_relevant\n",
              "0          0      0        0  ...       0             0                0.0\n",
              "1          0      1      257  ...       0             0                0.0\n",
              "2          0      2        0  ...       0             0                0.0\n",
              "3          0      3        0  ...       0             0                0.0\n",
              "4          0      4        0  ...       1             1                0.2\n",
              "\n",
              "[5 rows x 7 columns]"
            ]
          },
          "metadata": {
            "tags": []
          },
          "execution_count": 64
        }
      ]
    },
    {
      "cell_type": "code",
      "metadata": {
        "id": "0XqPs1vyDffd"
      },
      "source": [
        "eps_greedy_10 = pd.read_csv('/content/drive/MyDrive/AI/Project/output/epsilon_greedy_10.csv').drop(columns='Unnamed: 0')"
      ],
      "execution_count": 65,
      "outputs": []
    },
    {
      "cell_type": "code",
      "metadata": {
        "id": "4T6a3s4uDrGg",
        "colab": {
          "base_uri": "https://localhost:8080/",
          "height": 191
        },
        "outputId": "bbfe522d-096b-4881-d191-f9c3372d1e2a"
      },
      "source": [
        "eps_greedy_10.head()"
      ],
      "execution_count": 66,
      "outputs": [
        {
          "output_type": "execute_result",
          "data": {
            "text/html": [
              "<div>\n",
              "<style scoped>\n",
              "    .dataframe tbody tr th:only-of-type {\n",
              "        vertical-align: middle;\n",
              "    }\n",
              "\n",
              "    .dataframe tbody tr th {\n",
              "        vertical-align: top;\n",
              "    }\n",
              "\n",
              "    .dataframe thead th {\n",
              "        text-align: right;\n",
              "    }\n",
              "</style>\n",
              "<table border=\"1\" class=\"dataframe\">\n",
              "  <thead>\n",
              "    <tr style=\"text-align: right;\">\n",
              "      <th></th>\n",
              "      <th>iteration</th>\n",
              "      <th>visit</th>\n",
              "      <th>item_id</th>\n",
              "      <th>visitor_id</th>\n",
              "      <th>reward</th>\n",
              "      <th>total_reward</th>\n",
              "      <th>fraction_relevant</th>\n",
              "    </tr>\n",
              "  </thead>\n",
              "  <tbody>\n",
              "    <tr>\n",
              "      <th>0</th>\n",
              "      <td>0</td>\n",
              "      <td>0</td>\n",
              "      <td>0</td>\n",
              "      <td>12</td>\n",
              "      <td>0</td>\n",
              "      <td>0</td>\n",
              "      <td>0.0</td>\n",
              "    </tr>\n",
              "    <tr>\n",
              "      <th>1</th>\n",
              "      <td>0</td>\n",
              "      <td>1</td>\n",
              "      <td>257</td>\n",
              "      <td>58</td>\n",
              "      <td>0</td>\n",
              "      <td>0</td>\n",
              "      <td>0.0</td>\n",
              "    </tr>\n",
              "    <tr>\n",
              "      <th>2</th>\n",
              "      <td>0</td>\n",
              "      <td>2</td>\n",
              "      <td>0</td>\n",
              "      <td>222</td>\n",
              "      <td>0</td>\n",
              "      <td>0</td>\n",
              "      <td>0.0</td>\n",
              "    </tr>\n",
              "    <tr>\n",
              "      <th>3</th>\n",
              "      <td>0</td>\n",
              "      <td>3</td>\n",
              "      <td>0</td>\n",
              "      <td>830</td>\n",
              "      <td>0</td>\n",
              "      <td>0</td>\n",
              "      <td>0.0</td>\n",
              "    </tr>\n",
              "    <tr>\n",
              "      <th>4</th>\n",
              "      <td>0</td>\n",
              "      <td>4</td>\n",
              "      <td>0</td>\n",
              "      <td>313</td>\n",
              "      <td>1</td>\n",
              "      <td>1</td>\n",
              "      <td>0.2</td>\n",
              "    </tr>\n",
              "  </tbody>\n",
              "</table>\n",
              "</div>"
            ],
            "text/plain": [
              "   iteration  visit  item_id  ...  reward  total_reward  fraction_relevant\n",
              "0          0      0        0  ...       0             0                0.0\n",
              "1          0      1      257  ...       0             0                0.0\n",
              "2          0      2        0  ...       0             0                0.0\n",
              "3          0      3        0  ...       0             0                0.0\n",
              "4          0      4        0  ...       1             1                0.2\n",
              "\n",
              "[5 rows x 7 columns]"
            ]
          },
          "metadata": {
            "tags": []
          },
          "execution_count": 66
        }
      ]
    },
    {
      "cell_type": "markdown",
      "metadata": {
        "id": "hFvPUA_xMm6j"
      },
      "source": [
        "# **Thompson Sampling Output**"
      ]
    },
    {
      "cell_type": "code",
      "metadata": {
        "id": "zL5oj-cZDrJt"
      },
      "source": [
        "thompson = pd.read_csv('/content/drive/MyDrive/AI/Project/output/thompson_sampling.csv').drop(columns='Unnamed: 0')"
      ],
      "execution_count": 67,
      "outputs": []
    },
    {
      "cell_type": "code",
      "metadata": {
        "id": "CM8YjDIoDrMR",
        "colab": {
          "base_uri": "https://localhost:8080/",
          "height": 191
        },
        "outputId": "3bebd1dd-909a-4794-eebf-31388bfc06e4"
      },
      "source": [
        "thompson.head()"
      ],
      "execution_count": 68,
      "outputs": [
        {
          "output_type": "execute_result",
          "data": {
            "text/html": [
              "<div>\n",
              "<style scoped>\n",
              "    .dataframe tbody tr th:only-of-type {\n",
              "        vertical-align: middle;\n",
              "    }\n",
              "\n",
              "    .dataframe tbody tr th {\n",
              "        vertical-align: top;\n",
              "    }\n",
              "\n",
              "    .dataframe thead th {\n",
              "        text-align: right;\n",
              "    }\n",
              "</style>\n",
              "<table border=\"1\" class=\"dataframe\">\n",
              "  <thead>\n",
              "    <tr style=\"text-align: right;\">\n",
              "      <th></th>\n",
              "      <th>iteration</th>\n",
              "      <th>visit</th>\n",
              "      <th>item_id</th>\n",
              "      <th>visitor_id</th>\n",
              "      <th>reward</th>\n",
              "      <th>total_reward</th>\n",
              "      <th>fraction_relevant</th>\n",
              "    </tr>\n",
              "  </thead>\n",
              "  <tbody>\n",
              "    <tr>\n",
              "      <th>0</th>\n",
              "      <td>0</td>\n",
              "      <td>0</td>\n",
              "      <td>299</td>\n",
              "      <td>12</td>\n",
              "      <td>0</td>\n",
              "      <td>0</td>\n",
              "      <td>0.000000</td>\n",
              "    </tr>\n",
              "    <tr>\n",
              "      <th>1</th>\n",
              "      <td>0</td>\n",
              "      <td>1</td>\n",
              "      <td>49</td>\n",
              "      <td>333</td>\n",
              "      <td>1</td>\n",
              "      <td>1</td>\n",
              "      <td>0.500000</td>\n",
              "    </tr>\n",
              "    <tr>\n",
              "      <th>2</th>\n",
              "      <td>0</td>\n",
              "      <td>2</td>\n",
              "      <td>49</td>\n",
              "      <td>693</td>\n",
              "      <td>1</td>\n",
              "      <td>2</td>\n",
              "      <td>0.666667</td>\n",
              "    </tr>\n",
              "    <tr>\n",
              "      <th>3</th>\n",
              "      <td>0</td>\n",
              "      <td>3</td>\n",
              "      <td>49</td>\n",
              "      <td>479</td>\n",
              "      <td>0</td>\n",
              "      <td>2</td>\n",
              "      <td>0.500000</td>\n",
              "    </tr>\n",
              "    <tr>\n",
              "      <th>4</th>\n",
              "      <td>0</td>\n",
              "      <td>4</td>\n",
              "      <td>120</td>\n",
              "      <td>525</td>\n",
              "      <td>0</td>\n",
              "      <td>2</td>\n",
              "      <td>0.400000</td>\n",
              "    </tr>\n",
              "  </tbody>\n",
              "</table>\n",
              "</div>"
            ],
            "text/plain": [
              "   iteration  visit  item_id  ...  reward  total_reward  fraction_relevant\n",
              "0          0      0      299  ...       0             0           0.000000\n",
              "1          0      1       49  ...       1             1           0.500000\n",
              "2          0      2       49  ...       1             2           0.666667\n",
              "3          0      3       49  ...       0             2           0.500000\n",
              "4          0      4      120  ...       0             2           0.400000\n",
              "\n",
              "[5 rows x 7 columns]"
            ]
          },
          "metadata": {
            "tags": []
          },
          "execution_count": 68
        }
      ]
    },
    {
      "cell_type": "code",
      "metadata": {
        "id": "LPwQ7UyjDrOq"
      },
      "source": [
        "# create a dataframe with running totals of how many times each recommendation was taken\n",
        "thompson_running_ttl = thompson.query('iteration == 0') \\\n",
        "                                .eval('selected = 1') \\\n",
        "                                .pivot(index='visit', columns='item_id', values='selected') \\\n",
        "                                .fillna(0) \\\n",
        "                                .cumsum(axis=0) \\\n",
        "                                .reset_index() \\\n",
        "                                .rename(columns=movie_titles)"
      ],
      "execution_count": 69,
      "outputs": []
    },
    {
      "cell_type": "code",
      "metadata": {
        "id": "e2cCcQBXDrR-"
      },
      "source": [
        "# scale the value by the visit number to get turn the running total into a percentage\n",
        "thompson_running_ttl.iloc[:,1:] = thompson_running_ttl.iloc[:,1:].div((thompson_running_ttl.visit + 1)/100, axis=0)"
      ],
      "execution_count": 70,
      "outputs": []
    },
    {
      "cell_type": "code",
      "metadata": {
        "id": "Q33A_oQgD1dT",
        "colab": {
          "base_uri": "https://localhost:8080/",
          "height": 191
        },
        "outputId": "7c039c2c-6343-4072-d7d6-bc1bbf549639"
      },
      "source": [
        "thompson_running_ttl.head()"
      ],
      "execution_count": 71,
      "outputs": [
        {
          "output_type": "execute_result",
          "data": {
            "text/html": [
              "<div>\n",
              "<style scoped>\n",
              "    .dataframe tbody tr th:only-of-type {\n",
              "        vertical-align: middle;\n",
              "    }\n",
              "\n",
              "    .dataframe tbody tr th {\n",
              "        vertical-align: top;\n",
              "    }\n",
              "\n",
              "    .dataframe thead th {\n",
              "        text-align: right;\n",
              "    }\n",
              "</style>\n",
              "<table border=\"1\" class=\"dataframe\">\n",
              "  <thead>\n",
              "    <tr style=\"text-align: right;\">\n",
              "      <th>item_id</th>\n",
              "      <th>visit</th>\n",
              "      <th>Toy Story</th>\n",
              "      <th>Star Wars</th>\n",
              "      <th>Fargo</th>\n",
              "      <th>Independence Day</th>\n",
              "      <th>Return of the Jedi</th>\n",
              "      <th>Contact</th>\n",
              "      <th>English Patient, The</th>\n",
              "      <th>Scream</th>\n",
              "      <th>Liar Liar</th>\n",
              "      <th>Air Force One</th>\n",
              "    </tr>\n",
              "  </thead>\n",
              "  <tbody>\n",
              "    <tr>\n",
              "      <th>0</th>\n",
              "      <td>0</td>\n",
              "      <td>0.0</td>\n",
              "      <td>0.000000</td>\n",
              "      <td>0.0</td>\n",
              "      <td>0.0</td>\n",
              "      <td>0.0</td>\n",
              "      <td>0.0</td>\n",
              "      <td>0.0</td>\n",
              "      <td>0.0</td>\n",
              "      <td>0.0</td>\n",
              "      <td>100.000000</td>\n",
              "    </tr>\n",
              "    <tr>\n",
              "      <th>1</th>\n",
              "      <td>1</td>\n",
              "      <td>0.0</td>\n",
              "      <td>50.000000</td>\n",
              "      <td>0.0</td>\n",
              "      <td>0.0</td>\n",
              "      <td>0.0</td>\n",
              "      <td>0.0</td>\n",
              "      <td>0.0</td>\n",
              "      <td>0.0</td>\n",
              "      <td>0.0</td>\n",
              "      <td>50.000000</td>\n",
              "    </tr>\n",
              "    <tr>\n",
              "      <th>2</th>\n",
              "      <td>2</td>\n",
              "      <td>0.0</td>\n",
              "      <td>66.666667</td>\n",
              "      <td>0.0</td>\n",
              "      <td>0.0</td>\n",
              "      <td>0.0</td>\n",
              "      <td>0.0</td>\n",
              "      <td>0.0</td>\n",
              "      <td>0.0</td>\n",
              "      <td>0.0</td>\n",
              "      <td>33.333333</td>\n",
              "    </tr>\n",
              "    <tr>\n",
              "      <th>3</th>\n",
              "      <td>3</td>\n",
              "      <td>0.0</td>\n",
              "      <td>75.000000</td>\n",
              "      <td>0.0</td>\n",
              "      <td>0.0</td>\n",
              "      <td>0.0</td>\n",
              "      <td>0.0</td>\n",
              "      <td>0.0</td>\n",
              "      <td>0.0</td>\n",
              "      <td>0.0</td>\n",
              "      <td>25.000000</td>\n",
              "    </tr>\n",
              "    <tr>\n",
              "      <th>4</th>\n",
              "      <td>4</td>\n",
              "      <td>0.0</td>\n",
              "      <td>60.000000</td>\n",
              "      <td>0.0</td>\n",
              "      <td>20.0</td>\n",
              "      <td>0.0</td>\n",
              "      <td>0.0</td>\n",
              "      <td>0.0</td>\n",
              "      <td>0.0</td>\n",
              "      <td>0.0</td>\n",
              "      <td>20.000000</td>\n",
              "    </tr>\n",
              "  </tbody>\n",
              "</table>\n",
              "</div>"
            ],
            "text/plain": [
              "item_id  visit  Toy Story  Star Wars  ...  Scream  Liar Liar  Air Force One\n",
              "0            0        0.0   0.000000  ...     0.0        0.0     100.000000\n",
              "1            1        0.0  50.000000  ...     0.0        0.0      50.000000\n",
              "2            2        0.0  66.666667  ...     0.0        0.0      33.333333\n",
              "3            3        0.0  75.000000  ...     0.0        0.0      25.000000\n",
              "4            4        0.0  60.000000  ...     0.0        0.0      20.000000\n",
              "\n",
              "[5 rows x 11 columns]"
            ]
          },
          "metadata": {
            "tags": []
          },
          "execution_count": 71
        }
      ]
    },
    {
      "cell_type": "code",
      "metadata": {
        "id": "McN63HcTD1jC",
        "colab": {
          "base_uri": "https://localhost:8080/",
          "height": 542
        },
        "outputId": "8dc68351-a56d-4b82-9fcb-87bfb08571f1"
      },
      "source": [
        "sns.set_palette(color_blind_palette_10)\n",
        "\n",
        "fig, ax = plt.subplots(figsize=(10,8))\n",
        "\n",
        "ax.stackplot(thompson_running_ttl.visit,\n",
        "             thompson_running_ttl.iloc[:,1:11].T,\n",
        "             labels=thompson_running_ttl.iloc[:,1:11].columns.values.tolist(),\n",
        "             colors=[color_map[x] for x in thompson_running_ttl.iloc[:,1:].columns.values]\n",
        "            )\n",
        "\n",
        "ax.set_xlim(0,1000)\n",
        "ax.set_xticks(range(0, 1100, 250))\n",
        "\n",
        "ax.set_title('Thompson Sampling Algorithm')\n",
        "ax.set_xlabel('Recommendation #')\n",
        "ax.set_ylabel('% of Recommendations')\n",
        "\n",
        "lgd = plt.legend(bbox_to_anchor=(1.02, 0.15), loc=2, borderaxespad=0., labelspacing=-2.3)\n",
        "\n",
        "ax.set_facecolor('w')\n",
        "\n",
        "plt.tight_layout()\n",
        "plt.show()"
      ],
      "execution_count": 72,
      "outputs": [
        {
          "output_type": "display_data",
          "data": {
            "image/png": "[encoded data removed]",
            "text/plain": [
              "<Figure size 720x576 with 1 Axes>"
            ]
          },
          "metadata": {
            "tags": []
          }
        }
      ]
    },
    {
      "cell_type": "code",
      "metadata": {
        "id": "mQx7pyjRD1l1"
      },
      "source": [
        "fig.savefig('/content/drive/MyDrive/AI/Project/output/images/bandit_results.png', transparent=False, bbox_extra_artists=(lgd,), bbox_inches='tight')"
      ],
      "execution_count": 73,
      "outputs": []
    },
    {
      "cell_type": "markdown",
      "metadata": {
        "id": "CJp6481gMx3s"
      },
      "source": [
        "# **Group the data to average over the runs**"
      ]
    },
    {
      "cell_type": "markdown",
      "metadata": {
        "id": "JBCKZehBM12A"
      },
      "source": [
        "# **A/B Test**"
      ]
    },
    {
      "cell_type": "code",
      "metadata": {
        "id": "hR_Kei64D1oU"
      },
      "source": [
        "ab_test_1k_avg = ab_test_1k.groupby('visit', as_index=False).mean()"
      ],
      "execution_count": 74,
      "outputs": []
    },
    {
      "cell_type": "code",
      "metadata": {
        "id": "o2d6qqvaD1rW",
        "colab": {
          "base_uri": "https://localhost:8080/",
          "height": 0
        },
        "outputId": "4095a9a6-8a22-4e68-9ba7-8831905cf507"
      },
      "source": [
        "ab_test_1k_avg.head()"
      ],
      "execution_count": 75,
      "outputs": [
        {
          "output_type": "execute_result",
          "data": {
            "text/html": [
              "<div>\n",
              "<style scoped>\n",
              "    .dataframe tbody tr th:only-of-type {\n",
              "        vertical-align: middle;\n",
              "    }\n",
              "\n",
              "    .dataframe tbody tr th {\n",
              "        vertical-align: top;\n",
              "    }\n",
              "\n",
              "    .dataframe thead th {\n",
              "        text-align: right;\n",
              "    }\n",
              "</style>\n",
              "<table border=\"1\" class=\"dataframe\">\n",
              "  <thead>\n",
              "    <tr style=\"text-align: right;\">\n",
              "      <th></th>\n",
              "      <th>visit</th>\n",
              "      <th>iteration</th>\n",
              "      <th>item_id</th>\n",
              "      <th>visitor_id</th>\n",
              "      <th>reward</th>\n",
              "      <th>total_reward</th>\n",
              "      <th>fraction_relevant</th>\n",
              "    </tr>\n",
              "  </thead>\n",
              "  <tbody>\n",
              "    <tr>\n",
              "      <th>0</th>\n",
              "      <td>0</td>\n",
              "      <td>9.5</td>\n",
              "      <td>156.1</td>\n",
              "      <td>431.85</td>\n",
              "      <td>0.40</td>\n",
              "      <td>0.40</td>\n",
              "      <td>0.400000</td>\n",
              "    </tr>\n",
              "    <tr>\n",
              "      <th>1</th>\n",
              "      <td>1</td>\n",
              "      <td>9.5</td>\n",
              "      <td>172.4</td>\n",
              "      <td>470.55</td>\n",
              "      <td>0.25</td>\n",
              "      <td>0.65</td>\n",
              "      <td>0.325000</td>\n",
              "    </tr>\n",
              "    <tr>\n",
              "      <th>2</th>\n",
              "      <td>2</td>\n",
              "      <td>9.5</td>\n",
              "      <td>154.9</td>\n",
              "      <td>512.85</td>\n",
              "      <td>0.35</td>\n",
              "      <td>1.00</td>\n",
              "      <td>0.333333</td>\n",
              "    </tr>\n",
              "    <tr>\n",
              "      <th>3</th>\n",
              "      <td>3</td>\n",
              "      <td>9.5</td>\n",
              "      <td>181.4</td>\n",
              "      <td>424.95</td>\n",
              "      <td>0.35</td>\n",
              "      <td>1.35</td>\n",
              "      <td>0.337500</td>\n",
              "    </tr>\n",
              "    <tr>\n",
              "      <th>4</th>\n",
              "      <td>4</td>\n",
              "      <td>9.5</td>\n",
              "      <td>200.4</td>\n",
              "      <td>559.00</td>\n",
              "      <td>0.25</td>\n",
              "      <td>1.60</td>\n",
              "      <td>0.320000</td>\n",
              "    </tr>\n",
              "  </tbody>\n",
              "</table>\n",
              "</div>"
            ],
            "text/plain": [
              "   visit  iteration  item_id  ...  reward  total_reward  fraction_relevant\n",
              "0      0        9.5    156.1  ...    0.40          0.40           0.400000\n",
              "1      1        9.5    172.4  ...    0.25          0.65           0.325000\n",
              "2      2        9.5    154.9  ...    0.35          1.00           0.333333\n",
              "3      3        9.5    181.4  ...    0.35          1.35           0.337500\n",
              "4      4        9.5    200.4  ...    0.25          1.60           0.320000\n",
              "\n",
              "[5 rows x 7 columns]"
            ]
          },
          "metadata": {
            "tags": []
          },
          "execution_count": 75
        }
      ]
    },
    {
      "cell_type": "code",
      "metadata": {
        "id": "75VMpqXSEAKv"
      },
      "source": [
        "ab_test_5k_avg = ab_test_5k.groupby(['visit'], as_index=False).mean()"
      ],
      "execution_count": 76,
      "outputs": []
    },
    {
      "cell_type": "code",
      "metadata": {
        "id": "rqJNI7eFEAN7",
        "colab": {
          "base_uri": "https://localhost:8080/",
          "height": 0
        },
        "outputId": "6fe5cb70-0ea9-4f6d-c8eb-c98074e8f192"
      },
      "source": [
        "ab_test_5k_avg.head()"
      ],
      "execution_count": 77,
      "outputs": [
        {
          "output_type": "execute_result",
          "data": {
            "text/html": [
              "<div>\n",
              "<style scoped>\n",
              "    .dataframe tbody tr th:only-of-type {\n",
              "        vertical-align: middle;\n",
              "    }\n",
              "\n",
              "    .dataframe tbody tr th {\n",
              "        vertical-align: top;\n",
              "    }\n",
              "\n",
              "    .dataframe thead th {\n",
              "        text-align: right;\n",
              "    }\n",
              "</style>\n",
              "<table border=\"1\" class=\"dataframe\">\n",
              "  <thead>\n",
              "    <tr style=\"text-align: right;\">\n",
              "      <th></th>\n",
              "      <th>visit</th>\n",
              "      <th>iteration</th>\n",
              "      <th>item_id</th>\n",
              "      <th>visitor_id</th>\n",
              "      <th>reward</th>\n",
              "      <th>total_reward</th>\n",
              "      <th>fraction_relevant</th>\n",
              "    </tr>\n",
              "  </thead>\n",
              "  <tbody>\n",
              "    <tr>\n",
              "      <th>0</th>\n",
              "      <td>0</td>\n",
              "      <td>9.5</td>\n",
              "      <td>181.55</td>\n",
              "      <td>534.90</td>\n",
              "      <td>0.15</td>\n",
              "      <td>0.15</td>\n",
              "      <td>0.150</td>\n",
              "    </tr>\n",
              "    <tr>\n",
              "      <th>1</th>\n",
              "      <td>1</td>\n",
              "      <td>9.5</td>\n",
              "      <td>190.00</td>\n",
              "      <td>445.60</td>\n",
              "      <td>0.30</td>\n",
              "      <td>0.45</td>\n",
              "      <td>0.225</td>\n",
              "    </tr>\n",
              "    <tr>\n",
              "      <th>2</th>\n",
              "      <td>2</td>\n",
              "      <td>9.5</td>\n",
              "      <td>127.45</td>\n",
              "      <td>527.70</td>\n",
              "      <td>0.30</td>\n",
              "      <td>0.75</td>\n",
              "      <td>0.250</td>\n",
              "    </tr>\n",
              "    <tr>\n",
              "      <th>3</th>\n",
              "      <td>3</td>\n",
              "      <td>9.5</td>\n",
              "      <td>131.30</td>\n",
              "      <td>459.80</td>\n",
              "      <td>0.55</td>\n",
              "      <td>1.30</td>\n",
              "      <td>0.325</td>\n",
              "    </tr>\n",
              "    <tr>\n",
              "      <th>4</th>\n",
              "      <td>4</td>\n",
              "      <td>9.5</td>\n",
              "      <td>167.40</td>\n",
              "      <td>489.85</td>\n",
              "      <td>0.35</td>\n",
              "      <td>1.65</td>\n",
              "      <td>0.330</td>\n",
              "    </tr>\n",
              "  </tbody>\n",
              "</table>\n",
              "</div>"
            ],
            "text/plain": [
              "   visit  iteration  item_id  ...  reward  total_reward  fraction_relevant\n",
              "0      0        9.5   181.55  ...    0.15          0.15              0.150\n",
              "1      1        9.5   190.00  ...    0.30          0.45              0.225\n",
              "2      2        9.5   127.45  ...    0.30          0.75              0.250\n",
              "3      3        9.5   131.30  ...    0.55          1.30              0.325\n",
              "4      4        9.5   167.40  ...    0.35          1.65              0.330\n",
              "\n",
              "[5 rows x 7 columns]"
            ]
          },
          "metadata": {
            "tags": []
          },
          "execution_count": 77
        }
      ]
    },
    {
      "cell_type": "markdown",
      "metadata": {
        "id": "izUrwTOKM8OW"
      },
      "source": [
        "# **$\\epsilon$-Greedy**"
      ]
    },
    {
      "cell_type": "code",
      "metadata": {
        "id": "MoeP1k-yEAQd"
      },
      "source": [
        "eps_greedy_05_avg = eps_greedy_05.groupby(['visit'], as_index=False).mean()"
      ],
      "execution_count": 78,
      "outputs": []
    },
    {
      "cell_type": "code",
      "metadata": {
        "id": "xE0Eoo6gEATe",
        "colab": {
          "base_uri": "https://localhost:8080/",
          "height": 0
        },
        "outputId": "866a6d1e-0efb-4bee-ccb4-1ea54c36c9fd"
      },
      "source": [
        "eps_greedy_05_avg.head()"
      ],
      "execution_count": 79,
      "outputs": [
        {
          "output_type": "execute_result",
          "data": {
            "text/html": [
              "<div>\n",
              "<style scoped>\n",
              "    .dataframe tbody tr th:only-of-type {\n",
              "        vertical-align: middle;\n",
              "    }\n",
              "\n",
              "    .dataframe tbody tr th {\n",
              "        vertical-align: top;\n",
              "    }\n",
              "\n",
              "    .dataframe thead th {\n",
              "        text-align: right;\n",
              "    }\n",
              "</style>\n",
              "<table border=\"1\" class=\"dataframe\">\n",
              "  <thead>\n",
              "    <tr style=\"text-align: right;\">\n",
              "      <th></th>\n",
              "      <th>visit</th>\n",
              "      <th>iteration</th>\n",
              "      <th>item_id</th>\n",
              "      <th>visitor_id</th>\n",
              "      <th>reward</th>\n",
              "      <th>total_reward</th>\n",
              "      <th>fraction_relevant</th>\n",
              "    </tr>\n",
              "  </thead>\n",
              "  <tbody>\n",
              "    <tr>\n",
              "      <th>0</th>\n",
              "      <td>0</td>\n",
              "      <td>9.5</td>\n",
              "      <td>20.95</td>\n",
              "      <td>555.05</td>\n",
              "      <td>0.20</td>\n",
              "      <td>0.20</td>\n",
              "      <td>0.200000</td>\n",
              "    </tr>\n",
              "    <tr>\n",
              "      <th>1</th>\n",
              "      <td>1</td>\n",
              "      <td>9.5</td>\n",
              "      <td>12.85</td>\n",
              "      <td>576.85</td>\n",
              "      <td>0.00</td>\n",
              "      <td>0.20</td>\n",
              "      <td>0.100000</td>\n",
              "    </tr>\n",
              "    <tr>\n",
              "      <th>2</th>\n",
              "      <td>2</td>\n",
              "      <td>9.5</td>\n",
              "      <td>0.00</td>\n",
              "      <td>417.70</td>\n",
              "      <td>0.35</td>\n",
              "      <td>0.55</td>\n",
              "      <td>0.183333</td>\n",
              "    </tr>\n",
              "    <tr>\n",
              "      <th>3</th>\n",
              "      <td>3</td>\n",
              "      <td>9.5</td>\n",
              "      <td>16.80</td>\n",
              "      <td>466.30</td>\n",
              "      <td>0.25</td>\n",
              "      <td>0.80</td>\n",
              "      <td>0.200000</td>\n",
              "    </tr>\n",
              "    <tr>\n",
              "      <th>4</th>\n",
              "      <td>4</td>\n",
              "      <td>9.5</td>\n",
              "      <td>0.00</td>\n",
              "      <td>506.50</td>\n",
              "      <td>0.30</td>\n",
              "      <td>1.10</td>\n",
              "      <td>0.220000</td>\n",
              "    </tr>\n",
              "  </tbody>\n",
              "</table>\n",
              "</div>"
            ],
            "text/plain": [
              "   visit  iteration  item_id  ...  reward  total_reward  fraction_relevant\n",
              "0      0        9.5    20.95  ...    0.20          0.20           0.200000\n",
              "1      1        9.5    12.85  ...    0.00          0.20           0.100000\n",
              "2      2        9.5     0.00  ...    0.35          0.55           0.183333\n",
              "3      3        9.5    16.80  ...    0.25          0.80           0.200000\n",
              "4      4        9.5     0.00  ...    0.30          1.10           0.220000\n",
              "\n",
              "[5 rows x 7 columns]"
            ]
          },
          "metadata": {
            "tags": []
          },
          "execution_count": 79
        }
      ]
    },
    {
      "cell_type": "code",
      "metadata": {
        "id": "r28QiJtuEFvI"
      },
      "source": [
        "eps_greedy_10_avg = eps_greedy_10.groupby(['visit'], as_index=False).mean()"
      ],
      "execution_count": 80,
      "outputs": []
    },
    {
      "cell_type": "code",
      "metadata": {
        "id": "7-c7d_QsEFyD",
        "colab": {
          "base_uri": "https://localhost:8080/",
          "height": 0
        },
        "outputId": "c54ed96a-4aeb-4e88-f0c2-bd8d9d9956b1"
      },
      "source": [
        "eps_greedy_10_avg.head()"
      ],
      "execution_count": 81,
      "outputs": [
        {
          "output_type": "execute_result",
          "data": {
            "text/html": [
              "<div>\n",
              "<style scoped>\n",
              "    .dataframe tbody tr th:only-of-type {\n",
              "        vertical-align: middle;\n",
              "    }\n",
              "\n",
              "    .dataframe tbody tr th {\n",
              "        vertical-align: top;\n",
              "    }\n",
              "\n",
              "    .dataframe thead th {\n",
              "        text-align: right;\n",
              "    }\n",
              "</style>\n",
              "<table border=\"1\" class=\"dataframe\">\n",
              "  <thead>\n",
              "    <tr style=\"text-align: right;\">\n",
              "      <th></th>\n",
              "      <th>visit</th>\n",
              "      <th>iteration</th>\n",
              "      <th>item_id</th>\n",
              "      <th>visitor_id</th>\n",
              "      <th>reward</th>\n",
              "      <th>total_reward</th>\n",
              "      <th>fraction_relevant</th>\n",
              "    </tr>\n",
              "  </thead>\n",
              "  <tbody>\n",
              "    <tr>\n",
              "      <th>0</th>\n",
              "      <td>0</td>\n",
              "      <td>9.5</td>\n",
              "      <td>37.70</td>\n",
              "      <td>464.60</td>\n",
              "      <td>0.20</td>\n",
              "      <td>0.20</td>\n",
              "      <td>0.200000</td>\n",
              "    </tr>\n",
              "    <tr>\n",
              "      <th>1</th>\n",
              "      <td>1</td>\n",
              "      <td>9.5</td>\n",
              "      <td>47.15</td>\n",
              "      <td>363.45</td>\n",
              "      <td>0.15</td>\n",
              "      <td>0.35</td>\n",
              "      <td>0.175000</td>\n",
              "    </tr>\n",
              "    <tr>\n",
              "      <th>2</th>\n",
              "      <td>2</td>\n",
              "      <td>9.5</td>\n",
              "      <td>63.05</td>\n",
              "      <td>362.55</td>\n",
              "      <td>0.30</td>\n",
              "      <td>0.65</td>\n",
              "      <td>0.216667</td>\n",
              "    </tr>\n",
              "    <tr>\n",
              "      <th>3</th>\n",
              "      <td>3</td>\n",
              "      <td>9.5</td>\n",
              "      <td>48.10</td>\n",
              "      <td>558.55</td>\n",
              "      <td>0.15</td>\n",
              "      <td>0.80</td>\n",
              "      <td>0.200000</td>\n",
              "    </tr>\n",
              "    <tr>\n",
              "      <th>4</th>\n",
              "      <td>4</td>\n",
              "      <td>9.5</td>\n",
              "      <td>33.55</td>\n",
              "      <td>363.95</td>\n",
              "      <td>0.35</td>\n",
              "      <td>1.15</td>\n",
              "      <td>0.230000</td>\n",
              "    </tr>\n",
              "  </tbody>\n",
              "</table>\n",
              "</div>"
            ],
            "text/plain": [
              "   visit  iteration  item_id  ...  reward  total_reward  fraction_relevant\n",
              "0      0        9.5    37.70  ...    0.20          0.20           0.200000\n",
              "1      1        9.5    47.15  ...    0.15          0.35           0.175000\n",
              "2      2        9.5    63.05  ...    0.30          0.65           0.216667\n",
              "3      3        9.5    48.10  ...    0.15          0.80           0.200000\n",
              "4      4        9.5    33.55  ...    0.35          1.15           0.230000\n",
              "\n",
              "[5 rows x 7 columns]"
            ]
          },
          "metadata": {
            "tags": []
          },
          "execution_count": 81
        }
      ]
    },
    {
      "cell_type": "markdown",
      "metadata": {
        "id": "YpfghBidNBWQ"
      },
      "source": [
        "# **Thompson Sampling**"
      ]
    },
    {
      "cell_type": "code",
      "metadata": {
        "id": "CuZcb8oTEF1M"
      },
      "source": [
        "thompson_avg = thompson.groupby(['visit'], as_index=False).mean()"
      ],
      "execution_count": 82,
      "outputs": []
    },
    {
      "cell_type": "code",
      "metadata": {
        "id": "FneVYGpBEF3w",
        "colab": {
          "base_uri": "https://localhost:8080/",
          "height": 0
        },
        "outputId": "77192fcf-1d2e-493a-ff36-24a68d9b0f07"
      },
      "source": [
        "thompson_avg.head()"
      ],
      "execution_count": 83,
      "outputs": [
        {
          "output_type": "execute_result",
          "data": {
            "text/html": [
              "<div>\n",
              "<style scoped>\n",
              "    .dataframe tbody tr th:only-of-type {\n",
              "        vertical-align: middle;\n",
              "    }\n",
              "\n",
              "    .dataframe tbody tr th {\n",
              "        vertical-align: top;\n",
              "    }\n",
              "\n",
              "    .dataframe thead th {\n",
              "        text-align: right;\n",
              "    }\n",
              "</style>\n",
              "<table border=\"1\" class=\"dataframe\">\n",
              "  <thead>\n",
              "    <tr style=\"text-align: right;\">\n",
              "      <th></th>\n",
              "      <th>visit</th>\n",
              "      <th>iteration</th>\n",
              "      <th>item_id</th>\n",
              "      <th>visitor_id</th>\n",
              "      <th>reward</th>\n",
              "      <th>total_reward</th>\n",
              "      <th>fraction_relevant</th>\n",
              "    </tr>\n",
              "  </thead>\n",
              "  <tbody>\n",
              "    <tr>\n",
              "      <th>0</th>\n",
              "      <td>0</td>\n",
              "      <td>9.5</td>\n",
              "      <td>212.85</td>\n",
              "      <td>402.80</td>\n",
              "      <td>0.25</td>\n",
              "      <td>0.25</td>\n",
              "      <td>0.250000</td>\n",
              "    </tr>\n",
              "    <tr>\n",
              "      <th>1</th>\n",
              "      <td>1</td>\n",
              "      <td>9.5</td>\n",
              "      <td>198.55</td>\n",
              "      <td>410.75</td>\n",
              "      <td>0.60</td>\n",
              "      <td>0.85</td>\n",
              "      <td>0.425000</td>\n",
              "    </tr>\n",
              "    <tr>\n",
              "      <th>2</th>\n",
              "      <td>2</td>\n",
              "      <td>9.5</td>\n",
              "      <td>199.05</td>\n",
              "      <td>489.05</td>\n",
              "      <td>0.40</td>\n",
              "      <td>1.25</td>\n",
              "      <td>0.416667</td>\n",
              "    </tr>\n",
              "    <tr>\n",
              "      <th>3</th>\n",
              "      <td>3</td>\n",
              "      <td>9.5</td>\n",
              "      <td>147.90</td>\n",
              "      <td>335.60</td>\n",
              "      <td>0.30</td>\n",
              "      <td>1.55</td>\n",
              "      <td>0.387500</td>\n",
              "    </tr>\n",
              "    <tr>\n",
              "      <th>4</th>\n",
              "      <td>4</td>\n",
              "      <td>9.5</td>\n",
              "      <td>141.15</td>\n",
              "      <td>443.55</td>\n",
              "      <td>0.15</td>\n",
              "      <td>1.70</td>\n",
              "      <td>0.340000</td>\n",
              "    </tr>\n",
              "  </tbody>\n",
              "</table>\n",
              "</div>"
            ],
            "text/plain": [
              "   visit  iteration  item_id  ...  reward  total_reward  fraction_relevant\n",
              "0      0        9.5   212.85  ...    0.25          0.25           0.250000\n",
              "1      1        9.5   198.55  ...    0.60          0.85           0.425000\n",
              "2      2        9.5   199.05  ...    0.40          1.25           0.416667\n",
              "3      3        9.5   147.90  ...    0.30          1.55           0.387500\n",
              "4      4        9.5   141.15  ...    0.15          1.70           0.340000\n",
              "\n",
              "[5 rows x 7 columns]"
            ]
          },
          "metadata": {
            "tags": []
          },
          "execution_count": 83
        }
      ]
    },
    {
      "cell_type": "markdown",
      "metadata": {
        "id": "INjogVg6NIKb"
      },
      "source": [
        "# **summarize the results**"
      ]
    },
    {
      "cell_type": "code",
      "metadata": {
        "id": "NCG9O2ZVEF6i",
        "colab": {
          "base_uri": "https://localhost:8080/",
          "height": 686
        },
        "outputId": "bc079202-5e2e-48a5-9189-c680fd304d0b"
      },
      "source": [
        "fig, ax = plt.subplots(figsize=(12,10))\n",
        "\n",
        "# add a line for the optimal value -- 0.5575 for Star Wars (from exploration noteboook)\n",
        "ax.axhline(y=0.5575, color='k', linestyle=':', linewidth=2.5)\n",
        "\n",
        "for (avg_results_df, style) in [(thompson_avg, 'tab:brown'),\n",
        "                                (eps_greedy_05_avg, 'b-'),\n",
        "                                (eps_greedy_10_avg, 'b--'),\n",
        "                                (ab_test_1k_avg, 'r-'),\n",
        "                                (ab_test_5k_avg, 'r--')]:\n",
        "    \n",
        "    ax.plot(avg_results_df.visit, avg_results_df.fraction_relevant, style, linewidth=3.5)\n",
        "\n",
        "ax.set_title('Percentage of Liked Recommendations')\n",
        "ax.set_xlabel('Recommendation #')\n",
        "ax.set_ylabel('% of Recs Liked')\n",
        "\n",
        "ax.set_xticks(range(0,22000,5000))\n",
        "ax.set_ylim(0.2, 0.6)\n",
        "ax.set_yticks(np.arange(0.2, 0.7, 0.1))\n",
        "\n",
        "# rescale the y-axis tick labels to show them as a percentage\n",
        "ax.set_yticklabels((ax.get_yticks()*100).astype(int))\n",
        "\n",
        "ax.legend(['Optimal (Star Wars)',\n",
        "           'Thompson Sampling',\n",
        "           '$\\epsilon$ = 0.05',\n",
        "           '$\\epsilon$ = 0.10',\n",
        "           'A/B Test (1k Recs)',\n",
        "           'A/B Test (5k Recs)'\n",
        "          ],\n",
        "          loc='lower right'\n",
        "         )\n",
        "plt.tight_layout()\n",
        "plt.show()"
      ],
      "execution_count": 84,
      "outputs": [
        {
          "output_type": "display_data",
          "data": {
            "image/png": "[encoded data removed]",
            "text/plain": [
              "<Figure size 864x720 with 1 Axes>"
            ]
          },
          "metadata": {
            "tags": []
          }
        }
      ]
    },
    {
      "cell_type": "code",
      "metadata": {
        "id": "hXjmql3uEF_2"
      },
      "source": [
        ""
      ],
      "execution_count": 84,
      "outputs": []
    },
    {
      "cell_type": "code",
      "metadata": {
        "id": "C2oNhjRfEGDi"
      },
      "source": [
        ""
      ],
      "execution_count": 84,
      "outputs": []
    }
  ]
}